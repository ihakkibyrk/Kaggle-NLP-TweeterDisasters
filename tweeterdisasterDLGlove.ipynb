{
 "cells": [
  {
   "cell_type": "code",
   "execution_count": 1,
   "metadata": {},
   "outputs": [],
   "source": [
    "# Load libraries\n",
    "\n",
    "import pandas as pd\n",
    "import numpy as np\n",
    "import matplotlib.pyplot as plt\n",
    "import seaborn as sns\n",
    "\n",
    "from sklearn.feature_extraction.text import TfidfVectorizer\n",
    "from sklearn.ensemble import RandomForestClassifier, AdaBoostClassifier\n",
    "from sklearn.linear_model import LogisticRegression\n",
    "from sklearn.naive_bayes import BernoulliNB\n",
    "from sklearn.svm import LinearSVC\n",
    "from sklearn.neighbors import KNeighborsClassifier\n",
    "from xgboost import XGBClassifier\n",
    "from sklearn.utils import class_weight\n",
    "from sklearn.metrics import recall_score, precision_score, f1_score, classification_report, confusion_matrix, accuracy_score\n",
    "from sklearn.model_selection import train_test_split, GridSearchCV, cross_validate\n",
    "\n",
    "from tensorflow.keras.callbacks import EarlyStopping\n",
    "from tensorflow.keras.models import Sequential\n",
    "from tensorflow.keras.layers import Dense, GRU, Embedding, Dropout\n",
    "from tensorflow.keras.optimizers import Adam\n",
    "from tensorflow.keras.preprocessing.text import Tokenizer\n",
    "from tensorflow.keras.preprocessing.sequence import pad_sequences\n",
    "from tensorflow.keras.wrappers.scikit_learn import KerasClassifier\n",
    "\n",
    "from gensim.models import Word2Vec\n",
    "from gensim.scripts.glove2word2vec import glove2word2vec\n",
    "from gensim.models import KeyedVectors\n",
    "\n",
    "from warnings import filterwarnings\n",
    "filterwarnings('ignore')"
   ]
  },
  {
   "cell_type": "code",
   "execution_count": 2,
   "metadata": {},
   "outputs": [],
   "source": [
    "def eval_metrics(model, X_train, X_test):\n",
    "    y_pred = model.predict(X_test)\n",
    "    y_pred_train = model.predict(X_train)\n",
    "    print('\\0033[1m' + 'Test Set:' + '\\033[0m')\n",
    "    print(confusion_matrix(y_test, y_pred))\n",
    "    print(classification_report(y_test, y_pred))\n",
    "    print('\\0033[1m' + 'Trajn Set:' + '\\033[0m')\n",
    "    print(confusion_matrix(y_train, y_pred_train))\n",
    "    print(classification_report(y_train, y_pred_train)) "
   ]
  },
  {
   "cell_type": "code",
   "execution_count": 3,
   "metadata": {},
   "outputs": [
    {
     "data": {
      "text/plain": [
       "(400000, 100)"
      ]
     },
     "execution_count": 3,
     "metadata": {},
     "output_type": "execute_result"
    }
   ],
   "source": []
  },
  {
   "cell_type": "code",
   "execution_count": 4,
   "metadata": {},
   "outputs": [],
   "source": []
  },
  {
   "cell_type": "code",
   "execution_count": 5,
   "metadata": {},
   "outputs": [],
   "source": [
    "# Loading the data\n",
    "df = pd.read_pickle('clean_data_1608221436.pkl')\n",
    "\n",
    "df['clean_text_lemmas'] = [' '.join(text) for text in df['lemmas']]\n",
    "df['clean_text_lemmas'] = df['clean_text_lemmas'].astype('str')"
   ]
  },
  {
   "cell_type": "code",
   "execution_count": 73,
   "metadata": {},
   "outputs": [],
   "source": [
    "# Subset the features\n",
    "X = df.lemmas_small\n",
    "y = df.target"
   ]
  },
  {
   "cell_type": "code",
   "execution_count": 83,
   "metadata": {},
   "outputs": [
    {
     "name": "stdout",
     "output_type": "stream",
     "text": [
      "max_lenght :  21\n",
      "mean_lenght :  6.2062261920399315\n",
      " max_tokens :  21\n",
      "% data used :  0.9998686457375542\n"
     ]
    }
   ],
   "source": [
    "# Create toeknizer to have numaric values for the sequences\n",
    "tokenizer = Tokenizer(num_words=6200, filters=None)\n",
    "\n",
    "# Tokenize the text\n",
    "tokenizer.fit_on_texts(X)\n",
    "\n",
    "# Converting tokens to Numeric values\n",
    "X_num_tokens = tokenizer.texts_to_sequences(X)\n",
    "\n",
    "# Maximum number of tokens for all docuemnt\n",
    "num_tokens = [len(tokens) for tokens in X_num_tokens]\n",
    "num_tokens = np.array(num_tokens)\n",
    "\n",
    "print('max_lenght : ', num_tokens.max())\n",
    "print('mean_lenght : ', num_tokens.mean())\n",
    "max_tokens = num_tokens.max()\n",
    "print(' max_tokens : ', num_tokens.max())\n",
    "print('% data used : ', sum(num_tokens < max_tokens)/len(num_tokens))"
   ]
  },
  {
   "cell_type": "code",
   "execution_count": 84,
   "metadata": {},
   "outputs": [
    {
     "data": {
      "text/plain": [
       "7613"
      ]
     },
     "execution_count": 84,
     "metadata": {},
     "output_type": "execute_result"
    }
   ],
   "source": [
    "len(X_num_tokens)"
   ]
  },
  {
   "cell_type": "code",
   "execution_count": 85,
   "metadata": {},
   "outputs": [],
   "source": [
    "# Fixing token cpounts of all docuemnts(pad_seq)\n",
    "X_pad = pad_sequences(X_num_tokens, maxlen=max_tokens)"
   ]
  },
  {
   "cell_type": "code",
   "execution_count": 23,
   "metadata": {},
   "outputs": [],
   "source": [
    "# Glove Model\n",
    "glove_model = 'glove.6B.100d.txt'\n",
    "word2vec = 'glove.6B.100d.word2vec'\n",
    "glove2word2vec(glove_model, word2vec)\n",
    "\n",
    "wv_model = KeyedVectors.load_word2vec_format(word2vec)"
   ]
  },
  {
   "cell_type": "code",
   "execution_count": 81,
   "metadata": {},
   "outputs": [],
   "source": [
    "words = list(tokenizer.word_index.keys())"
   ]
  },
  {
   "cell_type": "code",
   "execution_count": 177,
   "metadata": {},
   "outputs": [],
   "source": [
    "words.remove('ombudsmanship')"
   ]
  },
  {
   "cell_type": "code",
   "execution_count": 178,
   "metadata": {},
   "outputs": [],
   "source": [
    "# Creating the corpus for Word embedding\n",
    "corpus = []\n",
    "for text in df.lemmas.values:\n",
    "    corpus.append(text)\n",
    "\n",
    "embedding_size = 100\n",
    "num_words = 6200\n",
    "\n",
    "# Create the embedding matrix with the train weights for DL model\n",
    "embedding_matrix = np.random.uniform(-1,1, (num_words, embedding_size))\n",
    "for i, word in enumerate(words):\n",
    "    if i < num_words:\n",
    "        embedding_vector = wv_model[word]\n",
    "        if embedding_vector is not None:\n",
    "            embedding_matrix[i] = embedding_vector"
   ]
  },
  {
   "cell_type": "code",
   "execution_count": 179,
   "metadata": {},
   "outputs": [],
   "source": [
    "# Perform a test/train split\n",
    "X_train, X_test, y_train, y_test = train_test_split(X_pad, y, stratify= y, test_size=0.3, random_state=42)"
   ]
  },
  {
   "cell_type": "code",
   "execution_count": 258,
   "metadata": {},
   "outputs": [],
   "source": [
    "# Selecting the Sequential model\n",
    "model = Sequential()\n",
    "model.add(Embedding(input_dim=num_words,\n",
    "                    output_dim=embedding_size,\n",
    "                    weights=[embedding_matrix],\n",
    "                    input_length=21,\n",
    "                    trainable=True,\n",
    "                    name='embedding_layer'))\n",
    "model.add(Dropout(0.4))\n",
    "model.add(GRU(units=48, return_sequences=True))\n",
    "model.add(Dropout(0.4))\n",
    "model.add(GRU(units=24, return_sequences=True))\n",
    "model.add(Dropout(0.4))\n",
    "model.add(GRU(units=12))\n",
    "model.add(Dense(1, activation='sigmoid'))"
   ]
  },
  {
   "cell_type": "code",
   "execution_count": 259,
   "metadata": {},
   "outputs": [],
   "source": [
    "optimizer = Adam(learning_rate = 0.005)\n",
    "model.compile(loss='binary_crossentropy', optimizer=optimizer, metrics=['accuracy'])"
   ]
  },
  {
   "cell_type": "code",
   "execution_count": 260,
   "metadata": {},
   "outputs": [],
   "source": [
    "early_stop = EarlyStopping(monitor=\"val_accuracy\", mode=\"max\", \n",
    "                           verbose=1, patience = 2, restore_best_weights=True)"
   ]
  },
  {
   "cell_type": "code",
   "execution_count": 261,
   "metadata": {},
   "outputs": [
    {
     "name": "stdout",
     "output_type": "stream",
     "text": [
      "Epoch 1/25\n",
      "56/56 [==============================] - 13s 109ms/step - loss: 0.6439 - accuracy: 0.6346 - val_loss: 0.5675 - val_accuracy: 0.7150\n",
      "Epoch 2/25\n",
      "56/56 [==============================] - 4s 78ms/step - loss: 0.5019 - accuracy: 0.7664 - val_loss: 0.4850 - val_accuracy: 0.7881\n",
      "Epoch 3/25\n",
      "56/56 [==============================] - 4s 76ms/step - loss: 0.4045 - accuracy: 0.8272 - val_loss: 0.4995 - val_accuracy: 0.7855\n",
      "Epoch 4/25\n",
      "56/56 [==============================] - ETA: 0s - loss: 0.3429 - accuracy: 0.8617Restoring model weights from the end of the best epoch: 2.\n",
      "56/56 [==============================] - 4s 79ms/step - loss: 0.3429 - accuracy: 0.8617 - val_loss: 0.4917 - val_accuracy: 0.7846\n",
      "Epoch 4: early stopping\n"
     ]
    },
    {
     "data": {
      "text/plain": [
       "<keras.callbacks.History at 0x2a008f090d0>"
      ]
     },
     "execution_count": 261,
     "metadata": {},
     "output_type": "execute_result"
    }
   ],
   "source": [
    "model.fit(X_train, y_train, epochs=25, batch_size=96,\n",
    "         validation_data=(X_test, y_test), callbacks=[early_stop])"
   ]
  },
  {
   "cell_type": "code",
   "execution_count": 262,
   "metadata": {},
   "outputs": [
    {
     "data": {
      "text/html": [
       "<div>\n",
       "<style scoped>\n",
       "    .dataframe tbody tr th:only-of-type {\n",
       "        vertical-align: middle;\n",
       "    }\n",
       "\n",
       "    .dataframe tbody tr th {\n",
       "        vertical-align: top;\n",
       "    }\n",
       "\n",
       "    .dataframe thead th {\n",
       "        text-align: right;\n",
       "    }\n",
       "</style>\n",
       "<table border=\"1\" class=\"dataframe\">\n",
       "  <thead>\n",
       "    <tr style=\"text-align: right;\">\n",
       "      <th></th>\n",
       "      <th>loss</th>\n",
       "      <th>accuracy</th>\n",
       "      <th>val_loss</th>\n",
       "      <th>val_accuracy</th>\n",
       "    </tr>\n",
       "  </thead>\n",
       "  <tbody>\n",
       "    <tr>\n",
       "      <th>0</th>\n",
       "      <td>0.643891</td>\n",
       "      <td>0.634641</td>\n",
       "      <td>0.567547</td>\n",
       "      <td>0.714974</td>\n",
       "    </tr>\n",
       "    <tr>\n",
       "      <th>1</th>\n",
       "      <td>0.501921</td>\n",
       "      <td>0.766373</td>\n",
       "      <td>0.485046</td>\n",
       "      <td>0.788091</td>\n",
       "    </tr>\n",
       "    <tr>\n",
       "      <th>2</th>\n",
       "      <td>0.404529</td>\n",
       "      <td>0.827172</td>\n",
       "      <td>0.499512</td>\n",
       "      <td>0.785464</td>\n",
       "    </tr>\n",
       "    <tr>\n",
       "      <th>3</th>\n",
       "      <td>0.342920</td>\n",
       "      <td>0.861700</td>\n",
       "      <td>0.491741</td>\n",
       "      <td>0.784588</td>\n",
       "    </tr>\n",
       "  </tbody>\n",
       "</table>\n",
       "</div>"
      ],
      "text/plain": [
       "       loss  accuracy  val_loss  val_accuracy\n",
       "0  0.643891  0.634641  0.567547      0.714974\n",
       "1  0.501921  0.766373  0.485046      0.788091\n",
       "2  0.404529  0.827172  0.499512      0.785464\n",
       "3  0.342920  0.861700  0.491741      0.784588"
      ]
     },
     "execution_count": 262,
     "metadata": {},
     "output_type": "execute_result"
    }
   ],
   "source": [
    "model_loss = pd.DataFrame(model.history.history)\n",
    "model_loss.head()"
   ]
  },
  {
   "cell_type": "code",
   "execution_count": 263,
   "metadata": {},
   "outputs": [
    {
     "data": {
      "text/plain": [
       "<AxesSubplot:>"
      ]
     },
     "execution_count": 263,
     "metadata": {},
     "output_type": "execute_result"
    },
    {
     "data": {
      "image/png": "[encoded data removed]",
      "text/plain": [
       "<Figure size 432x288 with 1 Axes>"
      ]
     },
     "metadata": {
      "needs_background": "light"
     },
     "output_type": "display_data"
    }
   ],
   "source": [
    "model_loss.plot()"
   ]
  },
  {
   "cell_type": "code",
   "execution_count": 264,
   "metadata": {},
   "outputs": [],
   "source": [
    "def eval_metrics(model, X_train, X_test):\n",
    "    y_pred = model.predict(X_test) > 0.5\n",
    "    y_pred_train = model.predict(X_train) > 0.5\n",
    "    print('\\0033[1m' + 'Test Set:' + '\\033[0m')\n",
    "    print(confusion_matrix(y_test, y_pred))\n",
    "    print(classification_report(y_test, y_pred))\n",
    "    print('\\0033[1m' + 'Train Set:' + '\\033[0m')\n",
    "    print(confusion_matrix(y_train, y_pred_train))\n",
    "    print(classification_report(y_train, y_pred_train)) "
   ]
  },
  {
   "cell_type": "code",
   "execution_count": 265,
   "metadata": {},
   "outputs": [
    {
     "name": "stdout",
     "output_type": "stream",
     "text": [
      "72/72 [==============================] - 3s 9ms/step\n",
      "167/167 [==============================] - 2s 10ms/step\n",
      "\u00033[1mTest Set:\u001b[0m\n",
      "[[1089  214]\n",
      " [ 270  711]]\n",
      "              precision    recall  f1-score   support\n",
      "\n",
      "           0       0.80      0.84      0.82      1303\n",
      "           1       0.77      0.72      0.75       981\n",
      "\n",
      "    accuracy                           0.79      2284\n",
      "   macro avg       0.78      0.78      0.78      2284\n",
      "weighted avg       0.79      0.79      0.79      2284\n",
      "\n",
      "\u00033[1mTrain Set:\u001b[0m\n",
      "[[2752  287]\n",
      " [ 468 1822]]\n",
      "              precision    recall  f1-score   support\n",
      "\n",
      "           0       0.85      0.91      0.88      3039\n",
      "           1       0.86      0.80      0.83      2290\n",
      "\n",
      "    accuracy                           0.86      5329\n",
      "   macro avg       0.86      0.85      0.85      5329\n",
      "weighted avg       0.86      0.86      0.86      5329\n",
      "\n"
     ]
    }
   ],
   "source": [
    "eval_metrics(model, X_train, X_test)"
   ]
  },
  {
   "cell_type": "code",
   "execution_count": 268,
   "metadata": {},
   "outputs": [],
   "source": [
    "df_test = pd.read_pickle('clean_data_1608221848.pkl')"
   ]
  },
  {
   "cell_type": "code",
   "execution_count": 269,
   "metadata": {},
   "outputs": [
    {
     "data": {
      "text/html": [
       "<div>\n",
       "<style scoped>\n",
       "    .dataframe tbody tr th:only-of-type {\n",
       "        vertical-align: middle;\n",
       "    }\n",
       "\n",
       "    .dataframe tbody tr th {\n",
       "        vertical-align: top;\n",
       "    }\n",
       "\n",
       "    .dataframe thead th {\n",
       "        text-align: right;\n",
       "    }\n",
       "</style>\n",
       "<table border=\"1\" class=\"dataframe\">\n",
       "  <thead>\n",
       "    <tr style=\"text-align: right;\">\n",
       "      <th></th>\n",
       "      <th>id</th>\n",
       "      <th>text</th>\n",
       "      <th>cleaned_text</th>\n",
       "      <th>lemmas</th>\n",
       "      <th>lemmas_small</th>\n",
       "    </tr>\n",
       "  </thead>\n",
       "  <tbody>\n",
       "    <tr>\n",
       "      <th>0</th>\n",
       "      <td>0</td>\n",
       "      <td>Just happened a terrible car crash</td>\n",
       "      <td>just happened terrible car crash</td>\n",
       "      <td>[just, happen, terrible, car, crash]</td>\n",
       "      <td>[just, happen, terrible, car, crash]</td>\n",
       "    </tr>\n",
       "    <tr>\n",
       "      <th>1</th>\n",
       "      <td>2</td>\n",
       "      <td>Heard about #earthquake is different cities, s...</td>\n",
       "      <td>heard about earthquake different cities stay s...</td>\n",
       "      <td>[hear, earthquake, different, city, stay, safe]</td>\n",
       "      <td>[hear, earthquake, different, city, stay, safe]</td>\n",
       "    </tr>\n",
       "    <tr>\n",
       "      <th>2</th>\n",
       "      <td>3</td>\n",
       "      <td>there is a forest fire at spot pond, geese are...</td>\n",
       "      <td>there forest fire spot pond geese are fleeing ...</td>\n",
       "      <td>[forest, spot, pond, goose, flee, street, not,...</td>\n",
       "      <td>[forest, spot, pond, goose, flee, street, not,...</td>\n",
       "    </tr>\n",
       "    <tr>\n",
       "      <th>3</th>\n",
       "      <td>9</td>\n",
       "      <td>Apocalypse lighting. #Spokane #wildfires</td>\n",
       "      <td>apocalypse lighting. spokane wildfires</td>\n",
       "      <td>[apocalypse, lighting, spokane, wildfire]</td>\n",
       "      <td>[apocalypse, lighting, wildfire]</td>\n",
       "    </tr>\n",
       "    <tr>\n",
       "      <th>4</th>\n",
       "      <td>11</td>\n",
       "      <td>Typhoon Soudelor kills 28 in China and Taiwan</td>\n",
       "      <td>typhoon soudelor kills china and taiwan</td>\n",
       "      <td>[typhoon, soudelor, kill, china, taiwan]</td>\n",
       "      <td>[typhoon, kill, china]</td>\n",
       "    </tr>\n",
       "    <tr>\n",
       "      <th>...</th>\n",
       "      <td>...</td>\n",
       "      <td>...</td>\n",
       "      <td>...</td>\n",
       "      <td>...</td>\n",
       "      <td>...</td>\n",
       "    </tr>\n",
       "    <tr>\n",
       "      <th>3258</th>\n",
       "      <td>10861</td>\n",
       "      <td>EARTHQUAKE SAFETY LOS ANGELES ÛÒ SAFETY FASTE...</td>\n",
       "      <td>earthquake safety los angeles ûò safety faste...</td>\n",
       "      <td>[earthquake, safety, los, angeles, ûò, safety...</td>\n",
       "      <td>[earthquake, safety, safety, fastener]</td>\n",
       "    </tr>\n",
       "    <tr>\n",
       "      <th>3259</th>\n",
       "      <td>10865</td>\n",
       "      <td>Storm in RI worse than last hurricane. My city...</td>\n",
       "      <td>storm worse than last hurricane. others hardes...</td>\n",
       "      <td>[storm, bad, hurricane, hard, hit, yard, look,...</td>\n",
       "      <td>[storm, bad, hurricane, hard, hit, yard, look,...</td>\n",
       "    </tr>\n",
       "    <tr>\n",
       "      <th>3260</th>\n",
       "      <td>10868</td>\n",
       "      <td>Green Line derailment in Chicago http://t.co/U...</td>\n",
       "      <td>green line derailment chicago</td>\n",
       "      <td>[green, line, derailment, chicago]</td>\n",
       "      <td>[green, line, derailment]</td>\n",
       "    </tr>\n",
       "    <tr>\n",
       "      <th>3261</th>\n",
       "      <td>10874</td>\n",
       "      <td>MEG issues Hazardous Weather Outlook (HWO) htt...</td>\n",
       "      <td>meg issues hazardous weather outlook hwo</td>\n",
       "      <td>[meg, issue, hazardous, weather, outlook, hwo]</td>\n",
       "      <td>[issue, hazardous, weather, outlook]</td>\n",
       "    </tr>\n",
       "    <tr>\n",
       "      <th>3262</th>\n",
       "      <td>10875</td>\n",
       "      <td>#CityofCalgary has activated its Municipal Eme...</td>\n",
       "      <td>cityofcalgary has activated its municipal emer...</td>\n",
       "      <td>[cityofcalgary, activate, municipal, emergency...</td>\n",
       "      <td>[activate, municipal, emergency, plan]</td>\n",
       "    </tr>\n",
       "  </tbody>\n",
       "</table>\n",
       "<p>3263 rows × 5 columns</p>\n",
       "</div>"
      ],
      "text/plain": [
       "         id                                               text  \\\n",
       "0         0                 Just happened a terrible car crash   \n",
       "1         2  Heard about #earthquake is different cities, s...   \n",
       "2         3  there is a forest fire at spot pond, geese are...   \n",
       "3         9           Apocalypse lighting. #Spokane #wildfires   \n",
       "4        11      Typhoon Soudelor kills 28 in China and Taiwan   \n",
       "...     ...                                                ...   \n",
       "3258  10861  EARTHQUAKE SAFETY LOS ANGELES ÛÒ SAFETY FASTE...   \n",
       "3259  10865  Storm in RI worse than last hurricane. My city...   \n",
       "3260  10868  Green Line derailment in Chicago http://t.co/U...   \n",
       "3261  10874  MEG issues Hazardous Weather Outlook (HWO) htt...   \n",
       "3262  10875  #CityofCalgary has activated its Municipal Eme...   \n",
       "\n",
       "                                           cleaned_text  \\\n",
       "0                      just happened terrible car crash   \n",
       "1     heard about earthquake different cities stay s...   \n",
       "2     there forest fire spot pond geese are fleeing ...   \n",
       "3                apocalypse lighting. spokane wildfires   \n",
       "4               typhoon soudelor kills china and taiwan   \n",
       "...                                                 ...   \n",
       "3258  earthquake safety los angeles ûò safety faste...   \n",
       "3259  storm worse than last hurricane. others hardes...   \n",
       "3260                      green line derailment chicago   \n",
       "3261           meg issues hazardous weather outlook hwo   \n",
       "3262  cityofcalgary has activated its municipal emer...   \n",
       "\n",
       "                                                 lemmas  \\\n",
       "0                  [just, happen, terrible, car, crash]   \n",
       "1       [hear, earthquake, different, city, stay, safe]   \n",
       "2     [forest, spot, pond, goose, flee, street, not,...   \n",
       "3             [apocalypse, lighting, spokane, wildfire]   \n",
       "4              [typhoon, soudelor, kill, china, taiwan]   \n",
       "...                                                 ...   \n",
       "3258  [earthquake, safety, los, angeles, ûò, safety...   \n",
       "3259  [storm, bad, hurricane, hard, hit, yard, look,...   \n",
       "3260                 [green, line, derailment, chicago]   \n",
       "3261     [meg, issue, hazardous, weather, outlook, hwo]   \n",
       "3262  [cityofcalgary, activate, municipal, emergency...   \n",
       "\n",
       "                                           lemmas_small  \n",
       "0                  [just, happen, terrible, car, crash]  \n",
       "1       [hear, earthquake, different, city, stay, safe]  \n",
       "2     [forest, spot, pond, goose, flee, street, not,...  \n",
       "3                      [apocalypse, lighting, wildfire]  \n",
       "4                                [typhoon, kill, china]  \n",
       "...                                                 ...  \n",
       "3258             [earthquake, safety, safety, fastener]  \n",
       "3259  [storm, bad, hurricane, hard, hit, yard, look,...  \n",
       "3260                          [green, line, derailment]  \n",
       "3261               [issue, hazardous, weather, outlook]  \n",
       "3262             [activate, municipal, emergency, plan]  \n",
       "\n",
       "[3263 rows x 5 columns]"
      ]
     },
     "execution_count": 269,
     "metadata": {},
     "output_type": "execute_result"
    }
   ],
   "source": [
    "df_test"
   ]
  },
  {
   "cell_type": "code",
   "execution_count": 270,
   "metadata": {},
   "outputs": [],
   "source": [
    "\n",
    "X_num_tokens_test = tokenizer.texts_to_sequences(df_test.lemmas_small)"
   ]
  },
  {
   "cell_type": "code",
   "execution_count": 271,
   "metadata": {},
   "outputs": [
    {
     "name": "stdout",
     "output_type": "stream",
     "text": [
      "max_lenght :  15\n",
      "mean_lenght :  5.865461231995097\n",
      " max_tokens :  15\n",
      "% data used :  0.9993870671161508\n"
     ]
    }
   ],
   "source": [
    "# Maximum number of tokens for all docuemnt\n",
    "num_tokens = [len(tokens) for tokens in X_num_tokens_test]\n",
    "num_tokens = np.array(num_tokens)\n",
    "\n",
    "print('max_lenght : ', num_tokens.max())\n",
    "print('mean_lenght : ', num_tokens.mean())\n",
    "max_tokens = num_tokens.max()\n",
    "print(' max_tokens : ', num_tokens.max())\n",
    "print('% data used : ', sum(num_tokens < max_tokens)/len(num_tokens))"
   ]
  },
  {
   "cell_type": "code",
   "execution_count": 272,
   "metadata": {},
   "outputs": [],
   "source": [
    "# Fixing token cpounts of all docuemnts(pad_seq)\n",
    "X_pad_test = pad_sequences(X_num_tokens_test, maxlen=21)"
   ]
  },
  {
   "cell_type": "code",
   "execution_count": 274,
   "metadata": {},
   "outputs": [
    {
     "name": "stdout",
     "output_type": "stream",
     "text": [
      "102/102 [==============================] - 1s 8ms/step\n"
     ]
    }
   ],
   "source": [
    "df_test['target'] = model.predict(X_pad_test)"
   ]
  },
  {
   "cell_type": "code",
   "execution_count": 277,
   "metadata": {},
   "outputs": [],
   "source": [
    "df_test = df_test[['id','target']]"
   ]
  },
  {
   "cell_type": "code",
   "execution_count": 278,
   "metadata": {},
   "outputs": [],
   "source": [
    "df_test['target'] = df_test.target.apply(lambda x : 1 if x > 0.5 else 0)"
   ]
  },
  {
   "cell_type": "code",
   "execution_count": 280,
   "metadata": {},
   "outputs": [],
   "source": [
    "df_test.to_csv('submission2.csv', index=False)"
   ]
  },
  {
   "cell_type": "code",
   "execution_count": null,
   "metadata": {},
   "outputs": [],
   "source": []
  }
 ],
 "metadata": {
  "kernelspec": {
   "display_name": "Python 3.9.1 64-bit",
   "language": "python",
   "name": "python3"
  },
  "language_info": {
   "codemirror_mode": {
    "name": "ipython",
    "version": 3
   },
   "file_extension": ".py",
   "mimetype": "text/x-python",
   "name": "python",
   "nbconvert_exporter": "python",
   "pygments_lexer": "ipython3",
   "version": "3.9.1"
  },
  "orig_nbformat": 4,
  "vscode": {
   "interpreter": {
    "hash": "376b014e33adc11ea6a08e651f7f835750e4b57704f45419011e59609650410d"
   }
  }
 },
 "nbformat": 4,
 "nbformat_minor": 2
}
