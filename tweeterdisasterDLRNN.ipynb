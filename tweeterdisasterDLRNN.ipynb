{
  "cells": [
    {
      "cell_type": "markdown",
      "metadata": {
        "id": "6X73SBpsMP26"
      },
      "source": [
        "## NLP with DL"
      ]
    },
    {
      "cell_type": "code",
      "execution_count": 1,
      "metadata": {
        "colab": {
          "base_uri": "https://localhost:8080/"
        },
        "id": "cgJ_HalfMSVB",
        "outputId": "c95fc59b-8e1f-4563-fe5e-6f1367a8a306"
      },
      "outputs": [
        {
          "name": "stdout",
          "output_type": "stream",
          "text": [
            "Mounted at /content/drive\n"
          ]
        }
      ],
      "source": [
        "from google.colab import drive\n",
        "drive.mount('/content/drive')"
      ]
    },
    {
      "cell_type": "markdown",
      "metadata": {
        "id": "0Y6XdY0zMP3B"
      },
      "source": [
        "## Import libraries"
      ]
    },
    {
      "cell_type": "code",
      "execution_count": 1,
      "metadata": {
        "id": "yt8uihaEMP3B"
      },
      "outputs": [],
      "source": [
        "import numpy as np\n",
        "import pandas as pd\n",
        "from tensorflow.keras.models import Sequential\n",
        "from tensorflow.keras.layers import Dense, GRU, Embedding, Dropout\n",
        "from tensorflow.keras.optimizers import Adam\n",
        "from tensorflow.keras.preprocessing.text import Tokenizer\n",
        "from tensorflow.keras.preprocessing.sequence import pad_sequences"
      ]
    },
    {
      "cell_type": "code",
      "execution_count": 2,
      "metadata": {
        "id": "lN-e8sK4MP3D"
      },
      "outputs": [],
      "source": [
        "df = pd.read_pickle('clean_train.pkl')"
      ]
    },
    {
      "cell_type": "code",
      "execution_count": 3,
      "metadata": {
        "colab": {
          "base_uri": "https://localhost:8080/",
          "height": 206
        },
        "id": "kBw6YugKMP3D",
        "outputId": "7695b31f-6455-4603-a068-8849b16abd6b"
      },
      "outputs": [
        {
          "data": {
            "text/html": [
              "<div>\n",
              "<style scoped>\n",
              "    .dataframe tbody tr th:only-of-type {\n",
              "        vertical-align: middle;\n",
              "    }\n",
              "\n",
              "    .dataframe tbody tr th {\n",
              "        vertical-align: top;\n",
              "    }\n",
              "\n",
              "    .dataframe thead th {\n",
              "        text-align: right;\n",
              "    }\n",
              "</style>\n",
              "<table border=\"1\" class=\"dataframe\">\n",
              "  <thead>\n",
              "    <tr style=\"text-align: right;\">\n",
              "      <th></th>\n",
              "      <th>id</th>\n",
              "      <th>text</th>\n",
              "      <th>target</th>\n",
              "      <th>cleaned_text</th>\n",
              "      <th>lemmas</th>\n",
              "      <th>lemmas_small</th>\n",
              "    </tr>\n",
              "  </thead>\n",
              "  <tbody>\n",
              "    <tr>\n",
              "      <th>0</th>\n",
              "      <td>1</td>\n",
              "      <td>Our Deeds are the Reason of this #earthquake M...</td>\n",
              "      <td>1</td>\n",
              "      <td>our deeds are the reason this earthquake may a...</td>\n",
              "      <td>[deed, reason, earthquake, allah, forgive]</td>\n",
              "      <td>[deed, reason, earthquake, forgive]</td>\n",
              "    </tr>\n",
              "    <tr>\n",
              "      <th>1</th>\n",
              "      <td>4</td>\n",
              "      <td>Forest fire near La Ronge Sask. Canada</td>\n",
              "      <td>1</td>\n",
              "      <td>forest fire near ronge sask canada</td>\n",
              "      <td>[forest, near, ronge, sask, canada]</td>\n",
              "      <td>[forest, near, canada]</td>\n",
              "    </tr>\n",
              "    <tr>\n",
              "      <th>2</th>\n",
              "      <td>5</td>\n",
              "      <td>All residents asked to 'shelter in place' are ...</td>\n",
              "      <td>1</td>\n",
              "      <td>all residents asked shelter place are being no...</td>\n",
              "      <td>[resident, ask, shelter, place, notify, office...</td>\n",
              "      <td>[resident, ask, shelter, place, notify, office...</td>\n",
              "    </tr>\n",
              "    <tr>\n",
              "      <th>3</th>\n",
              "      <td>6</td>\n",
              "      <td>13,000 people receive #wildfires evacuation or...</td>\n",
              "      <td>1</td>\n",
              "      <td>people receive wildfires evacuation orders cal...</td>\n",
              "      <td>[people, receive, wildfire, evacuation, order,...</td>\n",
              "      <td>[people, receive, wildfire, evacuation, order]</td>\n",
              "    </tr>\n",
              "    <tr>\n",
              "      <th>4</th>\n",
              "      <td>7</td>\n",
              "      <td>Just got sent this photo from Ruby #Alaska as ...</td>\n",
              "      <td>1</td>\n",
              "      <td>just got sent this photo from ruby alaska smok...</td>\n",
              "      <td>[just, send, photo, ruby, alaska, smoke, wildf...</td>\n",
              "      <td>[just, send, photo, ruby, smoke, wildfire, pou...</td>\n",
              "    </tr>\n",
              "  </tbody>\n",
              "</table>\n",
              "</div>"
            ],
            "text/plain": [
              "   id                                               text  target  \\\n",
              "0   1  Our Deeds are the Reason of this #earthquake M...       1   \n",
              "1   4             Forest fire near La Ronge Sask. Canada       1   \n",
              "2   5  All residents asked to 'shelter in place' are ...       1   \n",
              "3   6  13,000 people receive #wildfires evacuation or...       1   \n",
              "4   7  Just got sent this photo from Ruby #Alaska as ...       1   \n",
              "\n",
              "                                        cleaned_text  \\\n",
              "0  our deeds are the reason this earthquake may a...   \n",
              "1                 forest fire near ronge sask canada   \n",
              "2  all residents asked shelter place are being no...   \n",
              "3  people receive wildfires evacuation orders cal...   \n",
              "4  just got sent this photo from ruby alaska smok...   \n",
              "\n",
              "                                              lemmas  \\\n",
              "0         [deed, reason, earthquake, allah, forgive]   \n",
              "1                [forest, near, ronge, sask, canada]   \n",
              "2  [resident, ask, shelter, place, notify, office...   \n",
              "3  [people, receive, wildfire, evacuation, order,...   \n",
              "4  [just, send, photo, ruby, alaska, smoke, wildf...   \n",
              "\n",
              "                                        lemmas_small  \n",
              "0                [deed, reason, earthquake, forgive]  \n",
              "1                             [forest, near, canada]  \n",
              "2  [resident, ask, shelter, place, notify, office...  \n",
              "3     [people, receive, wildfire, evacuation, order]  \n",
              "4  [just, send, photo, ruby, smoke, wildfire, pou...  "
            ]
          },
          "execution_count": 3,
          "metadata": {},
          "output_type": "execute_result"
        }
      ],
      "source": [
        "df.head()"
      ]
    },
    {
      "cell_type": "code",
      "execution_count": 4,
      "metadata": {
        "colab": {
          "base_uri": "https://localhost:8080/"
        },
        "id": "Wd9UfbvsSWJ5",
        "outputId": "5335a679-aaca-433e-c465-3250e1260745"
      },
      "outputs": [
        {
          "name": "stdout",
          "output_type": "stream",
          "text": [
            "<class 'pandas.core.frame.DataFrame'>\n",
            "RangeIndex: 7613 entries, 0 to 7612\n",
            "Data columns (total 6 columns):\n",
            " #   Column        Non-Null Count  Dtype \n",
            "---  ------        --------------  ----- \n",
            " 0   id            7613 non-null   int64 \n",
            " 1   text          7613 non-null   object\n",
            " 2   target        7613 non-null   int64 \n",
            " 3   cleaned_text  7613 non-null   object\n",
            " 4   lemmas        7613 non-null   object\n",
            " 5   lemmas_small  7613 non-null   object\n",
            "dtypes: int64(2), object(4)\n",
            "memory usage: 357.0+ KB\n"
          ]
        }
      ],
      "source": [
        "df.info()"
      ]
    },
    {
      "cell_type": "markdown",
      "metadata": {
        "id": "ErzHzxUOMP3F"
      },
      "source": [
        "## Tokenization"
      ]
    },
    {
      "cell_type": "code",
      "execution_count": 5,
      "metadata": {
        "id": "amDd007iMP3F"
      },
      "outputs": [],
      "source": [
        "X = df.cleaned_text\n",
        "y = df.target"
      ]
    },
    {
      "cell_type": "code",
      "execution_count": 6,
      "metadata": {
        "id": "3ltwlIS9MP3G"
      },
      "outputs": [],
      "source": [
        "num_words = 15000 # corpusta geçen en fazla kullanılan ilk 15.000 kelimeyi(tokeni) alacağız gerisini yok sayacağız. \n",
        "# None değeri atanırsa tüm kelimeler dikkate alınır.\n",
        "tokenizer = Tokenizer(num_words=num_words) #filters='!\"#$%&()*+,-./:;<=>?@[\\\\]^_`{|}~\\t\\n1234567890' "
      ]
    },
    {
      "cell_type": "code",
      "execution_count": 7,
      "metadata": {
        "id": "7QnzlbfrMP3H"
      },
      "outputs": [],
      "source": [
        "tokenizer.fit_on_texts(X)"
      ]
    },
    {
      "cell_type": "markdown",
      "metadata": {
        "id": "qbBLA65iMP3I"
      },
      "source": [
        "## Creating word index"
      ]
    },
    {
      "cell_type": "code",
      "execution_count": 8,
      "metadata": {
        "colab": {
          "base_uri": "https://localhost:8080/"
        },
        "id": "ujCeRckiMP3I",
        "outputId": "81eb2f61-4704-49cd-e1ef-498141bc73e5"
      },
      "outputs": [
        {
          "data": {
            "text/plain": [
              "{'the': 1,\n",
              " 'and': 2,\n",
              " 'for': 3,\n",
              " 'you': 4,\n",
              " 'not': 5,\n",
              " 'with': 6,\n",
              " 'that': 7,\n",
              " 'this': 8,\n",
              " 'from': 9,\n",
              " 'are': 10,\n",
              " 'was': 11,\n",
              " 'have': 12,\n",
              " 'like': 13,\n",
              " 'just': 14,\n",
              " 'but': 15,\n",
              " 'your': 16,\n",
              " 'amp': 17,\n",
              " 'its': 18,\n",
              " 'out': 19,\n",
              " 'has': 20,\n",
              " 'after': 21,\n",
              " 'all': 22,\n",
              " 'will': 23,\n",
              " 'fire': 24,\n",
              " 'when': 25,\n",
              " 'get': 26,\n",
              " 'new': 27,\n",
              " 'now': 28,\n",
              " 'via': 29,\n",
              " 'more': 30,\n",
              " 'about': 31,\n",
              " 'news': 32,\n",
              " 'what': 33,\n",
              " 'people': 34,\n",
              " 'one': 35,\n",
              " 'they': 36,\n",
              " 'how': 37,\n",
              " 'been': 38,\n",
              " 'over': 39,\n",
              " 'who': 40,\n",
              " 'into': 41,\n",
              " 'were': 42,\n",
              " 'video': 43,\n",
              " 'can': 44,\n",
              " 'emergency': 45,\n",
              " 'disaster': 46,\n",
              " 'there': 47,\n",
              " 'police': 48,\n",
              " 'than': 49,\n",
              " 'would': 50,\n",
              " 'her': 51,\n",
              " 'some': 52,\n",
              " 'still': 53,\n",
              " 'his': 54,\n",
              " 'body': 55,\n",
              " 'burning': 56,\n",
              " 'crash': 57,\n",
              " 'back': 58,\n",
              " 'california': 59,\n",
              " 'storm': 60,\n",
              " 'suicide': 61,\n",
              " 'why': 62,\n",
              " 'got': 63,\n",
              " 'them': 64,\n",
              " 'off': 65,\n",
              " 'had': 66,\n",
              " 'time': 67,\n",
              " 'know': 68,\n",
              " 'man': 69,\n",
              " 'buildings': 70,\n",
              " 'day': 71,\n",
              " 'first': 72,\n",
              " 'see': 73,\n",
              " 'did': 74,\n",
              " 'going': 75,\n",
              " 'world': 76,\n",
              " 'bomb': 77,\n",
              " 'our': 78,\n",
              " 'love': 79,\n",
              " 'nuclear': 80,\n",
              " 'fires': 81,\n",
              " 'attack': 82,\n",
              " 'youtube': 83,\n",
              " 'two': 84,\n",
              " 'dead': 85,\n",
              " 'killed': 86,\n",
              " 'their': 87,\n",
              " 'train': 88,\n",
              " 'full': 89,\n",
              " 'war': 90,\n",
              " 'being': 91,\n",
              " 'car': 92,\n",
              " 'may': 93,\n",
              " 'life': 94,\n",
              " 'only': 95,\n",
              " 'families': 96,\n",
              " 'accident': 97,\n",
              " 'today': 98,\n",
              " 'good': 99,\n",
              " 'hiroshima': 100,\n",
              " 'could': 101,\n",
              " 'down': 102,\n",
              " 'think': 103,\n",
              " 'say': 104,\n",
              " 'watch': 105,\n",
              " 'many': 106,\n",
              " 'last': 107,\n",
              " 'here': 108,\n",
              " 'want': 109,\n",
              " 'years': 110,\n",
              " 'too': 111,\n",
              " 'then': 112,\n",
              " 'make': 113,\n",
              " 'way': 114,\n",
              " 'should': 115,\n",
              " 'home': 116,\n",
              " 'collapse': 117,\n",
              " 'work': 118,\n",
              " 'because': 119,\n",
              " 'look': 120,\n",
              " 'best': 121,\n",
              " 'help': 122,\n",
              " 'even': 123,\n",
              " 'need': 124,\n",
              " 'wildfire': 125,\n",
              " 'really': 126,\n",
              " 'death': 127,\n",
              " 'army': 128,\n",
              " 'mass': 129,\n",
              " 'please': 130,\n",
              " 'lol': 131,\n",
              " 'youre': 132,\n",
              " 'year': 133,\n",
              " 'him': 134,\n",
              " 'another': 135,\n",
              " 'take': 136,\n",
              " 'right': 137,\n",
              " 'those': 138,\n",
              " 'bombing': 139,\n",
              " 'school': 140,\n",
              " 'black': 141,\n",
              " 'does': 142,\n",
              " 'hot': 143,\n",
              " 'forest': 144,\n",
              " 'fatal': 145,\n",
              " 'much': 146,\n",
              " 'read': 147,\n",
              " 'northern': 148,\n",
              " 'live': 149,\n",
              " 'water': 150,\n",
              " 'great': 151,\n",
              " 'obama': 152,\n",
              " 'she': 153,\n",
              " 'let': 154,\n",
              " 'legionnaires': 155,\n",
              " 'never': 156,\n",
              " 'wreck': 157,\n",
              " 'homes': 158,\n",
              " 'bomber': 159,\n",
              " 'city': 160,\n",
              " 'thats': 161,\n",
              " 'latest': 162,\n",
              " 'every': 163,\n",
              " 'any': 164,\n",
              " 'old': 165,\n",
              " 'atomic': 166,\n",
              " 'flames': 167,\n",
              " 'god': 168,\n",
              " 'said': 169,\n",
              " 'where': 170,\n",
              " 'fear': 171,\n",
              " 'floods': 172,\n",
              " 'flood': 173,\n",
              " 'getting': 174,\n",
              " 'shit': 175,\n",
              " 'come': 176,\n",
              " 'under': 177,\n",
              " 'while': 178,\n",
              " 'feel': 179,\n",
              " 'near': 180,\n",
              " 'top': 181,\n",
              " 'ever': 182,\n",
              " 'content': 183,\n",
              " 'everyone': 184,\n",
              " 'most': 185,\n",
              " 'japan': 186,\n",
              " 'oil': 187,\n",
              " 'damage': 188,\n",
              " 'before': 189,\n",
              " 'state': 190,\n",
              " 'found': 191,\n",
              " 'hit': 192,\n",
              " 'since': 193,\n",
              " 'hope': 194,\n",
              " 'military': 195,\n",
              " 'injured': 196,\n",
              " 'coming': 197,\n",
              " 'next': 198,\n",
              " 'well': 199,\n",
              " 'during': 200,\n",
              " 'weather': 201,\n",
              " 'without': 202,\n",
              " 'ass': 203,\n",
              " 'earthquake': 204,\n",
              " 'evacuation': 205,\n",
              " 'flooding': 206,\n",
              " 'night': 207,\n",
              " 'these': 208,\n",
              " 'truck': 209,\n",
              " 'debris': 210,\n",
              " 'malaysia': 211,\n",
              " 'stop': 212,\n",
              " 'which': 213,\n",
              " 'plan': 214,\n",
              " 'smoke': 215,\n",
              " 'set': 216,\n",
              " 'times': 217,\n",
              " 'little': 218,\n",
              " 'cause': 219,\n",
              " 'movie': 220,\n",
              " 'ive': 221,\n",
              " 'wild': 222,\n",
              " 'through': 223,\n",
              " 'wounded': 224,\n",
              " 'cross': 225,\n",
              " 'confirmed': 226,\n",
              " 'thunderstorm': 227,\n",
              " 'severe': 228,\n",
              " 'always': 229,\n",
              " 'check': 230,\n",
              " 'fucking': 231,\n",
              " 'face': 232,\n",
              " 'looks': 233,\n",
              " 'food': 234,\n",
              " 'lightning': 235,\n",
              " 'reddit': 236,\n",
              " 'rain': 237,\n",
              " 'heat': 238,\n",
              " 'blood': 239,\n",
              " 'hes': 240,\n",
              " 'bad': 241,\n",
              " 'weapon': 242,\n",
              " 'natural': 243,\n",
              " 'sinking': 244,\n",
              " 'thunder': 245,\n",
              " 'theres': 246,\n",
              " 'until': 247,\n",
              " 'also': 248,\n",
              " 'bloody': 249,\n",
              " 'family': 250,\n",
              " 'services': 251,\n",
              " 'liked': 252,\n",
              " 'warning': 253,\n",
              " 'says': 254,\n",
              " 'fall': 255,\n",
              " 'weapons': 256,\n",
              " 'bags': 257,\n",
              " 'hurricane': 258,\n",
              " 'injuries': 259,\n",
              " 'loud': 260,\n",
              " 'gonna': 261,\n",
              " 'end': 262,\n",
              " 'screaming': 263,\n",
              " 'house': 264,\n",
              " 'change': 265,\n",
              " 'high': 266,\n",
              " 'hail': 267,\n",
              " 'missing': 268,\n",
              " 'made': 269,\n",
              " 'evacuate': 270,\n",
              " 'spill': 271,\n",
              " 'refugees': 272,\n",
              " 'photo': 273,\n",
              " 'summer': 274,\n",
              " 'free': 275,\n",
              " 'murder': 276,\n",
              " 'run': 277,\n",
              " 'boy': 278,\n",
              " 'again': 279,\n",
              " 'failure': 280,\n",
              " 'trapped': 281,\n",
              " 'collided': 282,\n",
              " 'panic': 283,\n",
              " 'area': 284,\n",
              " 'head': 285,\n",
              " 'explosion': 286,\n",
              " 'air': 287,\n",
              " 'destroy': 288,\n",
              " 'whole': 289,\n",
              " 'save': 290,\n",
              " 'survive': 291,\n",
              " 'girl': 292,\n",
              " 'released': 293,\n",
              " 'attacked': 294,\n",
              " 'bag': 295,\n",
              " 'derailment': 296,\n",
              " 'rescue': 297,\n",
              " 'deaths': 298,\n",
              " 'migrants': 299,\n",
              " 'wreckage': 300,\n",
              " 'sinkhole': 301,\n",
              " 'outbreak': 302,\n",
              " 'ò': 303,\n",
              " 'someone': 304,\n",
              " 'destroyed': 305,\n",
              " 'saudi': 306,\n",
              " 'wind': 307,\n",
              " 'bridge': 308,\n",
              " 'explode': 309,\n",
              " 'fatalities': 310,\n",
              " 'twister': 311,\n",
              " 'breaking': 312,\n",
              " 'around': 313,\n",
              " 'burned': 314,\n",
              " 'trauma': 315,\n",
              " 'ambulance': 316,\n",
              " 'destruction': 317,\n",
              " 'charged': 318,\n",
              " 'fuck': 319,\n",
              " 'big': 320,\n",
              " 'terrorist': 321,\n",
              " 'keep': 322,\n",
              " 'report': 323,\n",
              " 'lives': 324,\n",
              " 'rescued': 325,\n",
              " 'survived': 326,\n",
              " 'wrecked': 327,\n",
              " 'update': 328,\n",
              " 'county': 329,\n",
              " 'tonight': 330,\n",
              " 'ill': 331,\n",
              " 'road': 332,\n",
              " 'game': 333,\n",
              " 'island': 334,\n",
              " 'survivors': 335,\n",
              " 'away': 336,\n",
              " 'against': 337,\n",
              " 'real': 338,\n",
              " 'terrorism': 339,\n",
              " 'story': 340,\n",
              " 'rescuers': 341,\n",
              " 'ruin': 342,\n",
              " 'service': 343,\n",
              " 'catastrophe': 344,\n",
              " 'landslide': 345,\n",
              " 'dust': 346,\n",
              " 'other': 347,\n",
              " 'bus': 348,\n",
              " 'week': 349,\n",
              " 'injury': 350,\n",
              " 'phone': 351,\n",
              " 'call': 352,\n",
              " 'armageddon': 353,\n",
              " 'lets': 354,\n",
              " 'show': 355,\n",
              " 'violent': 356,\n",
              " 'white': 357,\n",
              " 'put': 358,\n",
              " 'riot': 359,\n",
              " 'boat': 360,\n",
              " 'drought': 361,\n",
              " 'collapsed': 362,\n",
              " 'harm': 363,\n",
              " 'curfew': 364,\n",
              " 'danger': 365,\n",
              " 'deluge': 366,\n",
              " 'investigators': 367,\n",
              " 'hostages': 368,\n",
              " 'mudslide': 369,\n",
              " 'quarantine': 370,\n",
              " 'structural': 371,\n",
              " 'sandstorm': 372,\n",
              " 'sunk': 373,\n",
              " 'whirlwind': 374,\n",
              " 'better': 375,\n",
              " 'least': 376,\n",
              " 'came': 377,\n",
              " 'thing': 378,\n",
              " 'suspect': 379,\n",
              " 'crashed': 380,\n",
              " 'apocalypse': 381,\n",
              " 'august': 382,\n",
              " 'red': 383,\n",
              " 'saw': 384,\n",
              " 'things': 385,\n",
              " 'post': 386,\n",
              " 'battle': 387,\n",
              " 'women': 388,\n",
              " 'tragedy': 389,\n",
              " 'rioting': 390,\n",
              " 'hazard': 391,\n",
              " 'devastation': 392,\n",
              " 'drowning': 393,\n",
              " 'engulfed': 394,\n",
              " 'screamed': 395,\n",
              " 'massacre': 396,\n",
              " 'quarantined': 397,\n",
              " 'wave': 398,\n",
              " 'horrible': 399,\n",
              " 'past': 400,\n",
              " 'heard': 401,\n",
              " 'airplane': 402,\n",
              " 'kills': 403,\n",
              " 'iran': 404,\n",
              " 'national': 405,\n",
              " 'mosque': 406,\n",
              " 'woman': 407,\n",
              " 'fedex': 408,\n",
              " 'wanna': 409,\n",
              " 'bleeding': 410,\n",
              " 'anniversary': 411,\n",
              " 'bombed': 412,\n",
              " 'displaced': 413,\n",
              " 'traumatised': 414,\n",
              " 'hazardous': 415,\n",
              " 'cliff': 416,\n",
              " 'crush': 417,\n",
              " 'hundreds': 418,\n",
              " 'stock': 419,\n",
              " 'derail': 420,\n",
              " 'exploded': 421,\n",
              " 'bang': 422,\n",
              " 'inundated': 423,\n",
              " 'heart': 424,\n",
              " 'long': 425,\n",
              " 'part': 426,\n",
              " 'twitter': 427,\n",
              " 'group': 428,\n",
              " 'dont': 429,\n",
              " 'blew': 430,\n",
              " 'drown': 431,\n",
              " 'blown': 432,\n",
              " 'casualties': 433,\n",
              " 'chemical': 434,\n",
              " 'wounds': 435,\n",
              " 'derailed': 436,\n",
              " 'desolation': 437,\n",
              " 'tsunami': 438,\n",
              " 'electrocuted': 439,\n",
              " 'famine': 440,\n",
              " 'lava': 441,\n",
              " 'windstorm': 442,\n",
              " 'tornado': 443,\n",
              " 'left': 444,\n",
              " 'reunion': 445,\n",
              " 'plane': 446,\n",
              " 'ebay': 447,\n",
              " 'lot': 448,\n",
              " 'must': 449,\n",
              " 'went': 450,\n",
              " 'power': 451,\n",
              " 'bioterror': 452,\n",
              " 'hostage': 453,\n",
              " 'half': 454,\n",
              " 'catastrophic': 455,\n",
              " 'affected': 456,\n",
              " 'collide': 457,\n",
              " 'typhoon': 458,\n",
              " 'isis': 459,\n",
              " 'trouble': 460,\n",
              " 'detonate': 461,\n",
              " 'evacuated': 462,\n",
              " 'flattened': 463,\n",
              " 'hellfire': 464,\n",
              " 'panicking': 465,\n",
              " 'razed': 466,\n",
              " 'screams': 467,\n",
              " 'something': 468,\n",
              " 'thank': 469,\n",
              " 'very': 470,\n",
              " 'meltdown': 471,\n",
              " 'doing': 472,\n",
              " 'possible': 473,\n",
              " 'soon': 474,\n",
              " 'kill': 475,\n",
              " 'calgary': 476,\n",
              " 'market': 477,\n",
              " 'land': 478,\n",
              " 'send': 479,\n",
              " 'baby': 480,\n",
              " 'demolish': 481,\n",
              " 'fatality': 482,\n",
              " 'hijacker': 483,\n",
              " 'hijacking': 484,\n",
              " 'due': 485,\n",
              " 'cool': 486,\n",
              " 'care': 487,\n",
              " 'traffic': 488,\n",
              " 'use': 489,\n",
              " 'goes': 490,\n",
              " 'government': 491,\n",
              " 'annihilated': 492,\n",
              " 'thought': 493,\n",
              " 'zone': 494,\n",
              " 'tomorrow': 495,\n",
              " 'arson': 496,\n",
              " 'officials': 497,\n",
              " 'india': 498,\n",
              " 'beautiful': 499,\n",
              " 'sure': 500,\n",
              " 'longer': 501,\n",
              " 'security': 502,\n",
              " 'blazing': 503,\n",
              " 'song': 504,\n",
              " 'light': 505,\n",
              " 'bagging': 506,\n",
              " 'pkk': 507,\n",
              " 'caused': 508,\n",
              " 'responders': 509,\n",
              " 'collision': 510,\n",
              " 'detonation': 511,\n",
              " 'drowned': 512,\n",
              " 'volcano': 513,\n",
              " 'eyewitness': 514,\n",
              " 'obliterated': 515,\n",
              " 'pandemonium': 516,\n",
              " 'rainstorm': 517,\n",
              " 'detonated': 518,\n",
              " 'building': 519,\n",
              " 'thanks': 520,\n",
              " 'used': 521,\n",
              " 'kids': 522,\n",
              " 'issues': 523,\n",
              " 'minute': 524,\n",
              " 'airport': 525,\n",
              " 'sirens': 526,\n",
              " 'river': 527,\n",
              " 'fan': 528,\n",
              " 'sound': 529,\n",
              " 'yet': 530,\n",
              " 'music': 531,\n",
              " 'nothing': 532,\n",
              " 'shoulder': 533,\n",
              " 'crushed': 534,\n",
              " 'cyclone': 535,\n",
              " 'blast': 536,\n",
              " 'demolished': 537,\n",
              " 'demolition': 538,\n",
              " 'prebreak': 539,\n",
              " 'obliterate': 540,\n",
              " 'obliteration': 541,\n",
              " 'siren': 542,\n",
              " 'three': 543,\n",
              " 'days': 544,\n",
              " 'whats': 545,\n",
              " 'shooting': 546,\n",
              " 'few': 547,\n",
              " 'already': 548,\n",
              " 'making': 549,\n",
              " 'done': 550,\n",
              " 'fun': 551,\n",
              " 'stay': 552,\n",
              " 'remember': 553,\n",
              " 'officer': 554,\n",
              " 'electrocute': 555,\n",
              " 'murderer': 556,\n",
              " 'upheaval': 557,\n",
              " 'died': 558,\n",
              " 'far': 559,\n",
              " 'south': 560,\n",
              " 'ablaze': 561,\n",
              " 'inside': 562,\n",
              " 'leave': 563,\n",
              " 'actually': 564,\n",
              " 'same': 565,\n",
              " 'believe': 566,\n",
              " 'wake': 567,\n",
              " 'hell': 568,\n",
              " 'fight': 569,\n",
              " 'start': 570,\n",
              " 'israeli': 571,\n",
              " 'media': 572,\n",
              " 'person': 573,\n",
              " 'guys': 574,\n",
              " 'having': 575,\n",
              " 'health': 576,\n",
              " 'words': 577,\n",
              " 'policy': 578,\n",
              " 'turkey': 579,\n",
              " 'bush': 580,\n",
              " 'hijack': 581,\n",
              " 'sue': 582,\n",
              " 'both': 583,\n",
              " 'site': 584,\n",
              " 'shot': 585,\n",
              " 'north': 586,\n",
              " 'men': 587,\n",
              " 'hours': 588,\n",
              " 'peace': 589,\n",
              " 'trying': 590,\n",
              " 'lab': 591,\n",
              " 'yes': 592,\n",
              " 'such': 593,\n",
              " 'nearby': 594,\n",
              " 'casualty': 595,\n",
              " 'declares': 596,\n",
              " 'seismic': 597,\n",
              " 'rold': 598,\n",
              " 'place': 599,\n",
              " 'wait': 600,\n",
              " 'second': 601,\n",
              " 'ó': 602,\n",
              " 'nowplaying': 603,\n",
              " 'plans': 604,\n",
              " 'once': 605,\n",
              " 'gets': 606,\n",
              " 'yourself': 607,\n",
              " 'brown': 608,\n",
              " 'play': 609,\n",
              " 'ago': 610,\n",
              " 'horror': 611,\n",
              " 'own': 612,\n",
              " 'children': 613,\n",
              " 'anything': 614,\n",
              " 'avalanche': 615,\n",
              " 'pic': 616,\n",
              " 'blight': 617,\n",
              " 'find': 618,\n",
              " 'deluged': 619,\n",
              " 'islam': 620,\n",
              " 'reactor': 621,\n",
              " 'offensive': 622,\n",
              " 'rubble': 623,\n",
              " 'swallowed': 624,\n",
              " 'snowstorm': 625,\n",
              " 'outside': 626,\n",
              " 'tell': 627,\n",
              " 'job': 628,\n",
              " 'almost': 629,\n",
              " 'aircraft': 630,\n",
              " 'helicopter': 631,\n",
              " 'history': 632,\n",
              " 'maybe': 633,\n",
              " 'data': 634,\n",
              " 'business': 635,\n",
              " 'yeah': 636,\n",
              " 'deal': 637,\n",
              " 'line': 638,\n",
              " 'watching': 639,\n",
              " 'bigger': 640,\n",
              " 'memories': 641,\n",
              " 'abc': 642,\n",
              " 'typhoondevastated': 643,\n",
              " 'saipan': 644,\n",
              " 'stretcher': 645,\n",
              " 'conclusively': 646,\n",
              " 'street': 647,\n",
              " 'side': 648,\n",
              " 'west': 649,\n",
              " 'support': 650,\n",
              " 'die': 651,\n",
              " 'anyone': 652,\n",
              " 'reuters': 653,\n",
              " 'bar': 654,\n",
              " 'hey': 655,\n",
              " 'order': 656,\n",
              " 'pick': 657,\n",
              " 'makes': 658,\n",
              " 'team': 659,\n",
              " 'literally': 660,\n",
              " 'transport': 661,\n",
              " 'bioterrorism': 662,\n",
              " 'searching': 663,\n",
              " 'blizzard': 664,\n",
              " 'low': 665,\n",
              " 'money': 666,\n",
              " 'photos': 667,\n",
              " 'hear': 668,\n",
              " 'crews': 669,\n",
              " 'rise': 670,\n",
              " 'waves': 671,\n",
              " 'bodies': 672,\n",
              " 'projected': 673,\n",
              " 'bestnaijamade': 674,\n",
              " 'lost': 675,\n",
              " 'happy': 676,\n",
              " 'center': 677,\n",
              " 'finally': 678,\n",
              " 'book': 679,\n",
              " 'might': 680,\n",
              " 'eyes': 681,\n",
              " 'shes': 682,\n",
              " 'everything': 683,\n",
              " 'country': 684,\n",
              " 'amid': 685,\n",
              " 'american': 686,\n",
              " 'blaze': 687,\n",
              " 'feeling': 688,\n",
              " 'space': 689,\n",
              " 'hollywood': 690,\n",
              " 'pretty': 691,\n",
              " 'move': 692,\n",
              " 'online': 693,\n",
              " 'probably': 694,\n",
              " 'myself': 695,\n",
              " 'saved': 696,\n",
              " 'trains': 697,\n",
              " 'soudelor': 698,\n",
              " 'signs': 699,\n",
              " 'effect': 700,\n",
              " 'manslaughter': 701,\n",
              " 'trench': 702,\n",
              " 'chinas': 703,\n",
              " 'fast': 704,\n",
              " 'arsonist': 705,\n",
              " 'others': 706,\n",
              " 'aftershock': 707,\n",
              " 'theyre': 708,\n",
              " 'feared': 709,\n",
              " 'seen': 710,\n",
              " 'case': 711,\n",
              " 'annihilation': 712,\n",
              " 'usa': 713,\n",
              " 'major': 714,\n",
              " 'child': 715,\n",
              " 'name': 716,\n",
              " 'crisis': 717,\n",
              " 'leather': 718,\n",
              " 'caught': 719,\n",
              " 'town': 720,\n",
              " 'okay': 721,\n",
              " 'damn': 722,\n",
              " 'youth': 723,\n",
              " 'though': 724,\n",
              " 'spot': 725,\n",
              " 'desolate': 726,\n",
              " 'hat': 727,\n",
              " 'refugio': 728,\n",
              " 'costlier': 729,\n",
              " 'miners': 730,\n",
              " 'flash': 731,\n",
              " 'flag': 732,\n",
              " 'cars': 733,\n",
              " 'lord': 734,\n",
              " 'huge': 735,\n",
              " 'america': 736,\n",
              " 'mom': 737,\n",
              " 'daily': 738,\n",
              " 'guy': 739,\n",
              " 'wrong': 740,\n",
              " 'jobs': 741,\n",
              " 'omg': 742,\n",
              " 'ship': 743,\n",
              " 'crazy': 744,\n",
              " 'pakistan': 745,\n",
              " 'hate': 746,\n",
              " 'ball': 747,\n",
              " 'self': 748,\n",
              " 'stand': 749,\n",
              " 'called': 750,\n",
              " 'class': 751,\n",
              " 'womens': 752,\n",
              " 'control': 753,\n",
              " 'texas': 754,\n",
              " 'needs': 755,\n",
              " 'nearly': 756,\n",
              " 'morning': 757,\n",
              " 'giant': 758,\n",
              " 'angry': 759,\n",
              " 'course': 760,\n",
              " 'banned': 761,\n",
              " 'picking': 762,\n",
              " 'hailstorm': 763,\n",
              " 'mayhem': 764,\n",
              " 'reason': 765,\n",
              " 'closed': 766,\n",
              " 'heavy': 767,\n",
              " 'across': 768,\n",
              " 'haha': 769,\n",
              " 'hard': 770,\n",
              " 'win': 771,\n",
              " 'official': 772,\n",
              " 'cant': 773,\n",
              " 'sorry': 774,\n",
              " 'poor': 775,\n",
              " 'toddler': 776,\n",
              " 'united': 777,\n",
              " 'east': 778,\n",
              " 'gun': 779,\n",
              " 'worst': 780,\n",
              " 'view': 781,\n",
              " 'listen': 782,\n",
              " 'anthrax': 783,\n",
              " 'computers': 784,\n",
              " 'entire': 785,\n",
              " 'level': 786,\n",
              " 'meek': 787,\n",
              " 'russian': 788,\n",
              " 'aug': 789,\n",
              " 'gbbo': 790,\n",
              " 'houses': 791,\n",
              " 'become': 792,\n",
              " 'chance': 793,\n",
              " 'friends': 794,\n",
              " 'ignition': 795,\n",
              " 'knock': 796,\n",
              " 'try': 797,\n",
              " 'thousands': 798,\n",
              " 'alone': 799,\n",
              " 'climate': 800,\n",
              " 'yours': 801,\n",
              " 'talk': 802,\n",
              " 'vehicle': 803,\n",
              " 'happened': 804,\n",
              " 'couple': 805,\n",
              " 'radio': 806,\n",
              " 'totally': 807,\n",
              " 'blue': 808,\n",
              " 'learn': 809,\n",
              " 'truth': 810,\n",
              " 'beach': 811,\n",
              " 'reports': 812,\n",
              " 'christian': 813,\n",
              " 'temple': 814,\n",
              " 'mount': 815,\n",
              " 'fukushima': 816,\n",
              " 'star': 817,\n",
              " 'taken': 818,\n",
              " 'playing': 819,\n",
              " 'mishaps': 820,\n",
              " 'action': 821,\n",
              " 'public': 822,\n",
              " 'running': 823,\n",
              " 'looking': 824,\n",
              " 'cake': 825,\n",
              " 'pain': 826,\n",
              " 'pay': 827,\n",
              " 'large': 828,\n",
              " 'wow': 829,\n",
              " 'ladies': 830,\n",
              " 'appears': 831,\n",
              " 'centre': 832,\n",
              " 'village': 833,\n",
              " 'bbc': 834,\n",
              " 'takes': 835,\n",
              " 'china': 836,\n",
              " 'issued': 837,\n",
              " 'emmerdale': 838,\n",
              " 'declaration': 839,\n",
              " 'disea': 840,\n",
              " 'myanmar': 841,\n",
              " 'wanted': 842,\n",
              " 'front': 843,\n",
              " 'else': 844,\n",
              " 'property': 845,\n",
              " 'drive': 846,\n",
              " 'global': 847,\n",
              " 'experts': 848,\n",
              " 'trust': 849,\n",
              " 'ready': 850,\n",
              " 'film': 851,\n",
              " 'till': 852,\n",
              " 'friend': 853,\n",
              " 'green': 854,\n",
              " 'muslims': 855,\n",
              " 'favorite': 856,\n",
              " 'eye': 857,\n",
              " 'young': 858,\n",
              " 'germs': 859,\n",
              " 'mad': 860,\n",
              " 'follow': 861,\n",
              " 'link': 862,\n",
              " 'drake': 863,\n",
              " 'marks': 864,\n",
              " 'thursday': 865,\n",
              " 'downtown': 866,\n",
              " 'insurance': 867,\n",
              " 'mph': 868,\n",
              " 'instead': 869,\n",
              " 'coaches': 870,\n",
              " 'flight': 871,\n",
              " 'quiz': 872,\n",
              " 'cnn': 873,\n",
              " 'devastated': 874,\n",
              " 'reddits': 875,\n",
              " 'virgin': 876,\n",
              " 'chile': 877,\n",
              " 'bring': 878,\n",
              " 'taking': 879,\n",
              " 'moment': 880,\n",
              " 'behind': 881,\n",
              " 'france': 882,\n",
              " 'four': 883,\n",
              " 'early': 884,\n",
              " 'dog': 885,\n",
              " 'driver': 886,\n",
              " 'israel': 887,\n",
              " 'park': 888,\n",
              " 'sign': 889,\n",
              " 'following': 890,\n",
              " 'comes': 891,\n",
              " 'scared': 892,\n",
              " 'escape': 893,\n",
              " 'govt': 894,\n",
              " 'date': 895,\n",
              " 'mop': 896,\n",
              " 'hiring': 897,\n",
              " 'true': 898,\n",
              " 'theater': 899,\n",
              " 'gave': 900,\n",
              " 'gop': 901,\n",
              " 'driving': 902,\n",
              " 'added': 903,\n",
              " 'miss': 904,\n",
              " 'turn': 905,\n",
              " 'fans': 906,\n",
              " 'libya': 907,\n",
              " 'nagasaki': 908,\n",
              " 'outrage': 909,\n",
              " 'camp': 910,\n",
              " 'sounds': 911,\n",
              " 'ppl': 912,\n",
              " 'british': 913,\n",
              " 'landing': 914,\n",
              " 'download': 915,\n",
              " 'york': 916,\n",
              " 'patience': 917,\n",
              " 'former': 918,\n",
              " 'madhya': 919,\n",
              " 'pradesh': 920,\n",
              " 'wonder': 921,\n",
              " 'led': 922,\n",
              " 'gems': 923,\n",
              " 'funtenna': 924,\n",
              " 'ancient': 925,\n",
              " 'subreddits': 926,\n",
              " 'colorado': 927,\n",
              " 'awesome': 928,\n",
              " 'upon': 929,\n",
              " 'reported': 930,\n",
              " 'risk': 931,\n",
              " 'turned': 932,\n",
              " 'seeing': 933,\n",
              " 'thinking': 934,\n",
              " 'mode': 935,\n",
              " 'pakistani': 936,\n",
              " 'potus': 937,\n",
              " 'disease': 938,\n",
              " 'give': 939,\n",
              " 'bed': 940,\n",
              " 'hand': 941,\n",
              " 'earth': 942,\n",
              " 'working': 943,\n",
              " 'russia': 944,\n",
              " 'shows': 945,\n",
              " 'lmao': 946,\n",
              " 'claims': 947,\n",
              " 'militants': 948,\n",
              " 'bombs': 949,\n",
              " 'pamela': 950,\n",
              " 'ebola': 951,\n",
              " 'niggas': 952,\n",
              " 'tweet': 953,\n",
              " 'party': 954,\n",
              " 'enough': 955,\n",
              " 'told': 956,\n",
              " 'soul': 957,\n",
              " 'info': 958,\n",
              " 'rock': 959,\n",
              " 'biggest': 960,\n",
              " 'fashion': 961,\n",
              " 'point': 962,\n",
              " 'middle': 963,\n",
              " 'pray': 964,\n",
              " 'holding': 965,\n",
              " 'likely': 966,\n",
              " 'businesses': 967,\n",
              " 'human': 968,\n",
              " 'room': 969,\n",
              " 'sea': 970,\n",
              " 'tree': 971,\n",
              " 'sick': 972,\n",
              " 'rules': 973,\n",
              " 'lamp': 974,\n",
              " 'nws': 975,\n",
              " 'bayelsa': 976,\n",
              " 'nigerian': 977,\n",
              " 'parole': 978,\n",
              " 'unconfirmed': 979,\n",
              " 'neighbours': 980,\n",
              " 'rly': 981,\n",
              " 'galactic': 982,\n",
              " 'expected': 983,\n",
              " 'london': 984,\n",
              " 'sky': 985,\n",
              " 'ave': 986,\n",
              " 'shots': 987,\n",
              " 'secret': 988,\n",
              " 'scene': 989,\n",
              " 'guess': 990,\n",
              " 'wants': 991,\n",
              " 'tried': 992,\n",
              " 'members': 993,\n",
              " 'wednesday': 994,\n",
              " 'safety': 995,\n",
              " 'share': 996,\n",
              " 'started': 997,\n",
              " 'dad': 998,\n",
              " 'series': 999,\n",
              " 'department': 1000,\n",
              " ...}"
            ]
          },
          "execution_count": 8,
          "metadata": {},
          "output_type": "execute_result"
        }
      ],
      "source": [
        "tokenizer.word_index"
      ]
    },
    {
      "cell_type": "code",
      "execution_count": 9,
      "metadata": {
        "colab": {
          "base_uri": "https://localhost:8080/"
        },
        "id": "01oWtDTTMP3J",
        "outputId": "e422c8f7-9222-4681-9967-62de4fcc0fbe"
      },
      "outputs": [
        {
          "data": {
            "text/plain": [
              "16226"
            ]
          },
          "execution_count": 9,
          "metadata": {},
          "output_type": "execute_result"
        }
      ],
      "source": [
        "len(tokenizer.word_index)"
      ]
    },
    {
      "cell_type": "markdown",
      "metadata": {
        "id": "1sENSxrzMP3J"
      },
      "source": [
        "## Converting tokens to numeric"
      ]
    },
    {
      "cell_type": "code",
      "execution_count": 10,
      "metadata": {
        "id": "OL-LESXtMP3J"
      },
      "outputs": [],
      "source": [
        "X_num_tokens = tokenizer.texts_to_sequences(X)"
      ]
    },
    {
      "cell_type": "markdown",
      "metadata": {
        "id": "hMRq6Oh90GXq"
      },
      "source": [
        "## Maximum number of tokens for all documents"
      ]
    },
    {
      "cell_type": "code",
      "execution_count": 11,
      "metadata": {
        "id": "dp7-tP7MMP3M"
      },
      "outputs": [],
      "source": [
        "num_tokens = [len(tokens) for tokens in X_num_tokens]\n",
        "num_tokens = np.array(num_tokens)"
      ]
    },
    {
      "cell_type": "code",
      "execution_count": 12,
      "metadata": {
        "colab": {
          "base_uri": "https://localhost:8080/"
        },
        "id": "9hO5Jgp8VG5B",
        "outputId": "e5cc524c-585a-44af-c197-9c6e58dd699f"
      },
      "outputs": [
        {
          "data": {
            "text/plain": [
              "array([11,  6, 16, ...,  2, 16, 10])"
            ]
          },
          "execution_count": 12,
          "metadata": {},
          "output_type": "execute_result"
        }
      ],
      "source": [
        "num_tokens"
      ]
    },
    {
      "cell_type": "code",
      "execution_count": 13,
      "metadata": {
        "colab": {
          "base_uri": "https://localhost:8080/"
        },
        "id": "4mIHsbiDMP3N",
        "outputId": "dc3a0f57-4c6f-4a69-8e70-ccda8f9525d9"
      },
      "outputs": [
        {
          "data": {
            "text/plain": [
              "10.999474582950217"
            ]
          },
          "execution_count": 13,
          "metadata": {},
          "output_type": "execute_result"
        }
      ],
      "source": [
        "num_tokens.mean()"
      ]
    },
    {
      "cell_type": "code",
      "execution_count": 14,
      "metadata": {
        "colab": {
          "base_uri": "https://localhost:8080/"
        },
        "id": "c-iTNs-0MP3N",
        "outputId": "b0f348a8-76fe-4ff4-e6ed-c4d0787a71dd"
      },
      "outputs": [
        {
          "data": {
            "text/plain": [
              "25"
            ]
          },
          "execution_count": 14,
          "metadata": {},
          "output_type": "execute_result"
        }
      ],
      "source": [
        "num_tokens.max()"
      ]
    },
    {
      "cell_type": "code",
      "execution_count": 16,
      "metadata": {
        "colab": {
          "base_uri": "https://localhost:8080/"
        },
        "id": "Wdpbr6TPMP3O",
        "outputId": "1f1de8a9-9119-4547-fca1-77f573d36e27"
      },
      "outputs": [
        {
          "data": {
            "text/plain": [
              "1540"
            ]
          },
          "execution_count": 16,
          "metadata": {},
          "output_type": "execute_result"
        }
      ],
      "source": [
        "num_tokens.argmax() # listedeki en uzun yorumun indexini argmax ile bulabiliyoruz."
      ]
    },
    {
      "cell_type": "code",
      "execution_count": 15,
      "metadata": {
        "id": "-k5VZDpjMP3Q"
      },
      "outputs": [],
      "source": [
        "max_tokens = 25"
      ]
    },
    {
      "cell_type": "code",
      "execution_count": 19,
      "metadata": {
        "colab": {
          "base_uri": "https://localhost:8080/"
        },
        "id": "Xal4WMNoMP3Q",
        "outputId": "785fe1bf-0c61-4875-e49e-55950ed801b2"
      },
      "outputs": [
        {
          "data": {
            "text/plain": [
              "0.9998686457375542"
            ]
          },
          "execution_count": 19,
          "metadata": {},
          "output_type": "execute_result"
        }
      ],
      "source": [
        "sum(num_tokens < max_tokens) / len(num_tokens)"
      ]
    },
    {
      "cell_type": "code",
      "execution_count": 16,
      "metadata": {
        "colab": {
          "base_uri": "https://localhost:8080/"
        },
        "id": "M2U7lFjMMP3R",
        "outputId": "a9474f78-af10-493e-bdd5-8fbbf18aa02b"
      },
      "outputs": [
        {
          "data": {
            "text/plain": [
              "7612"
            ]
          },
          "execution_count": 16,
          "metadata": {},
          "output_type": "execute_result"
        }
      ],
      "source": [
        "sum(num_tokens < max_tokens)"
      ]
    },
    {
      "cell_type": "code",
      "execution_count": 17,
      "metadata": {
        "colab": {
          "base_uri": "https://localhost:8080/"
        },
        "id": "1lGeDqduMP3R",
        "outputId": "59f27d7e-03a8-4e7d-b69b-de6f163abc1b"
      },
      "outputs": [
        {
          "data": {
            "text/plain": [
              "7613"
            ]
          },
          "execution_count": 17,
          "metadata": {},
          "output_type": "execute_result"
        }
      ],
      "source": [
        "len(num_tokens)"
      ]
    },
    {
      "cell_type": "markdown",
      "metadata": {
        "id": "fvfHyoaKMP3R"
      },
      "source": [
        "## Fixing token counts of all documents (pad_sequences)"
      ]
    },
    {
      "cell_type": "code",
      "execution_count": 18,
      "metadata": {
        "id": "bs3CarRdMP3R"
      },
      "outputs": [],
      "source": [
        "X_pad = pad_sequences(X_num_tokens, maxlen=max_tokens)"
      ]
    },
    {
      "cell_type": "code",
      "execution_count": 19,
      "metadata": {
        "colab": {
          "base_uri": "https://localhost:8080/"
        },
        "id": "NJsSbXm_MP3S",
        "outputId": "3aafb56a-28e7-4916-8818-f7b7d8113a2e"
      },
      "outputs": [
        {
          "data": {
            "text/plain": [
              "(7613, 25)"
            ]
          },
          "execution_count": 19,
          "metadata": {},
          "output_type": "execute_result"
        }
      ],
      "source": [
        "X_pad.shape"
      ]
    },
    {
      "cell_type": "markdown",
      "metadata": {
        "id": "cdZpEZg0MP3V"
      },
      "source": [
        "## Train Test Split"
      ]
    },
    {
      "cell_type": "code",
      "execution_count": 20,
      "metadata": {},
      "outputs": [],
      "source": [
        "from sklearn.model_selection import train_test_split\n",
        "\n",
        "X_train, X_test, y_train, y_test = train_test_split(X_pad, y, stratify=y, test_size=0.2, random_state=0) "
      ]
    },
    {
      "cell_type": "markdown",
      "metadata": {
        "id": "RY35Ev1rMP3W"
      },
      "source": [
        "## Modelling"
      ]
    },
    {
      "cell_type": "code",
      "execution_count": 33,
      "metadata": {
        "id": "GPoCxQyXMP3W"
      },
      "outputs": [],
      "source": [
        "model = Sequential()"
      ]
    },
    {
      "cell_type": "code",
      "execution_count": 22,
      "metadata": {
        "id": "XXOdeDTXMP3W"
      },
      "outputs": [],
      "source": [
        "embedding_size = 200"
      ]
    },
    {
      "cell_type": "code",
      "execution_count": 133,
      "metadata": {
        "id": "w6xvp2kQMP3X"
      },
      "outputs": [],
      "source": [
        "# pip install -U numpy==1.19.5"
      ]
    },
    {
      "cell_type": "code",
      "execution_count": 34,
      "metadata": {
        "id": "WDFpf4fSMP3X"
      },
      "outputs": [],
      "source": [
        "model.add(Embedding(input_dim=num_words,\n",
        "                    output_dim=embedding_size,\n",
        "                    input_length=max_tokens,\n",
        "                    name='embedding_layer'))\n",
        "\n",
        "model.add(Dropout(0.3))\n",
        "\n",
        "model.add(GRU(units=64, return_sequences=True))\n",
        "model.add(Dropout(0.3))\n",
        "\n",
        "model.add(GRU(units=32, return_sequences=True))\n",
        "model.add(Dropout(0.3))\n",
        "\n",
        "model.add(GRU(units=16))\n",
        "\n",
        "model.add(Dense(1, activation='sigmoid'))"
      ]
    },
    {
      "cell_type": "code",
      "execution_count": 35,
      "metadata": {
        "id": "pKOLaAIlMP3X"
      },
      "outputs": [],
      "source": [
        "optimizer = Adam(learning_rate=0.002)"
      ]
    },
    {
      "cell_type": "code",
      "execution_count": 36,
      "metadata": {
        "id": "zQqwx6KkMP3X"
      },
      "outputs": [],
      "source": [
        "model.compile(loss='binary_crossentropy',\n",
        "              optimizer=optimizer,\n",
        "              metrics=['Accuracy'])"
      ]
    },
    {
      "cell_type": "markdown",
      "metadata": {
        "id": "25o7tm7cMP3X"
      },
      "source": [
        "https://stats.stackexchange.com/questions/328926/how-many-parameters-are-in-a-gated-recurrent-unit-gru-recurrent-neural-network"
      ]
    },
    {
      "cell_type": "code",
      "execution_count": 37,
      "metadata": {
        "id": "5LxZGh5EMP3Y"
      },
      "outputs": [],
      "source": [
        "from tensorflow.keras.callbacks import EarlyStopping\n",
        "\n",
        "early_stop = EarlyStopping(monitor=\"val_Accuracy\", mode=\"max\", \n",
        "                           verbose=1, patience = 3, restore_best_weights=True)"
      ]
    },
    {
      "cell_type": "code",
      "execution_count": null,
      "metadata": {
        "id": "WPaOHrkgEUW2"
      },
      "outputs": [],
      "source": []
    },
    {
      "cell_type": "code",
      "execution_count": 138,
      "metadata": {
        "colab": {
          "base_uri": "https://localhost:8080/"
        },
        "id": "JSHMJXiRMP3Z",
        "outputId": "c174fbb5-a4aa-40b2-b201-da2e709dee72"
      },
      "outputs": [
        {
          "data": {
            "text/plain": [
              "array([1.16354605, 0.8767636 ])"
            ]
          },
          "execution_count": 138,
          "metadata": {},
          "output_type": "execute_result"
        }
      ],
      "source": [
        "from sklearn.utils import class_weight\n",
        "classes_weights = class_weight.compute_sample_weight(class_weight='balanced', y=y_train)\n",
        "pd.Series(classes_weights).unique()"
      ]
    },
    {
      "cell_type": "markdown",
      "metadata": {
        "id": "E2Mm-c-Yg1PU"
      },
      "source": [
        "https://keras.io/getting_started/faq/#why-is-my-training-loss-much-higher-than-my-testing-loss"
      ]
    },
    {
      "cell_type": "code",
      "execution_count": 38,
      "metadata": {
        "colab": {
          "base_uri": "https://localhost:8080/"
        },
        "id": "Aq7oVrxLMP3Z",
        "outputId": "36e274b2-bf24-4228-c94f-3c5a9483df9f"
      },
      "outputs": [
        {
          "name": "stdout",
          "output_type": "stream",
          "text": [
            "Epoch 1/20\n",
            "191/191 [==============================] - 37s 151ms/step - loss: 0.5221 - Accuracy: 0.7378 - val_loss: 0.4366 - val_Accuracy: 0.8076\n",
            "Epoch 2/20\n",
            "191/191 [==============================] - 26s 138ms/step - loss: 0.2838 - Accuracy: 0.8905 - val_loss: 0.4944 - val_Accuracy: 0.7807\n",
            "Epoch 3/20\n",
            "191/191 [==============================] - 26s 138ms/step - loss: 0.1517 - Accuracy: 0.9496 - val_loss: 0.6522 - val_Accuracy: 0.7741\n",
            "Epoch 4/20\n",
            "191/191 [==============================] - ETA: 0s - loss: 0.1006 - Accuracy: 0.9693Restoring model weights from the end of the best epoch: 1.\n",
            "191/191 [==============================] - 26s 135ms/step - loss: 0.1006 - Accuracy: 0.9693 - val_loss: 0.6600 - val_Accuracy: 0.7689\n",
            "Epoch 4: early stopping\n"
          ]
        },
        {
          "data": {
            "text/plain": [
              "<keras.callbacks.History at 0x2356686ea00>"
            ]
          },
          "execution_count": 38,
          "metadata": {},
          "output_type": "execute_result"
        }
      ],
      "source": [
        "model.fit(X_train, y_train, epochs=20, batch_size=32,\n",
        "         validation_data=(X_test, y_test), callbacks=[early_stop])"
      ]
    },
    {
      "cell_type": "markdown",
      "metadata": {
        "id": "fUZGuKlgMP3Z"
      },
      "source": [
        "## Model evaluation"
      ]
    },
    {
      "cell_type": "code",
      "execution_count": 39,
      "metadata": {
        "colab": {
          "base_uri": "https://localhost:8080/",
          "height": 143
        },
        "id": "FY1--hF-MP3Z",
        "outputId": "9e46c583-55b4-4899-9ea7-5fb70c6c2338"
      },
      "outputs": [
        {
          "data": {
            "text/html": [
              "<div>\n",
              "<style scoped>\n",
              "    .dataframe tbody tr th:only-of-type {\n",
              "        vertical-align: middle;\n",
              "    }\n",
              "\n",
              "    .dataframe tbody tr th {\n",
              "        vertical-align: top;\n",
              "    }\n",
              "\n",
              "    .dataframe thead th {\n",
              "        text-align: right;\n",
              "    }\n",
              "</style>\n",
              "<table border=\"1\" class=\"dataframe\">\n",
              "  <thead>\n",
              "    <tr style=\"text-align: right;\">\n",
              "      <th></th>\n",
              "      <th>loss</th>\n",
              "      <th>Accuracy</th>\n",
              "      <th>val_loss</th>\n",
              "      <th>val_Accuracy</th>\n",
              "    </tr>\n",
              "  </thead>\n",
              "  <tbody>\n",
              "    <tr>\n",
              "      <th>0</th>\n",
              "      <td>0.522057</td>\n",
              "      <td>0.737767</td>\n",
              "      <td>0.436587</td>\n",
              "      <td>0.807617</td>\n",
              "    </tr>\n",
              "    <tr>\n",
              "      <th>1</th>\n",
              "      <td>0.283763</td>\n",
              "      <td>0.890476</td>\n",
              "      <td>0.494414</td>\n",
              "      <td>0.780696</td>\n",
              "    </tr>\n",
              "    <tr>\n",
              "      <th>2</th>\n",
              "      <td>0.151712</td>\n",
              "      <td>0.949589</td>\n",
              "      <td>0.652247</td>\n",
              "      <td>0.774130</td>\n",
              "    </tr>\n",
              "    <tr>\n",
              "      <th>3</th>\n",
              "      <td>0.100569</td>\n",
              "      <td>0.969294</td>\n",
              "      <td>0.660018</td>\n",
              "      <td>0.768877</td>\n",
              "    </tr>\n",
              "  </tbody>\n",
              "</table>\n",
              "</div>"
            ],
            "text/plain": [
              "       loss  Accuracy  val_loss  val_Accuracy\n",
              "0  0.522057  0.737767  0.436587      0.807617\n",
              "1  0.283763  0.890476  0.494414      0.780696\n",
              "2  0.151712  0.949589  0.652247      0.774130\n",
              "3  0.100569  0.969294  0.660018      0.768877"
            ]
          },
          "execution_count": 39,
          "metadata": {},
          "output_type": "execute_result"
        }
      ],
      "source": [
        "model_loss = pd.DataFrame(model.history.history)\n",
        "model_loss.head()"
      ]
    },
    {
      "cell_type": "code",
      "execution_count": 40,
      "metadata": {
        "colab": {
          "base_uri": "https://localhost:8080/",
          "height": 283
        },
        "id": "BDVnpeScMP3Z",
        "outputId": "625d3bb9-bd38-44bb-c5da-a88d98f6ec93"
      },
      "outputs": [
        {
          "data": {
            "text/plain": [
              "<AxesSubplot:>"
            ]
          },
          "execution_count": 40,
          "metadata": {},
          "output_type": "execute_result"
        },
        {
          "data": {
            "image/png": "[encoded data removed]",
            "text/plain": [
              "<Figure size 432x288 with 1 Axes>"
            ]
          },
          "metadata": {
            "needs_background": "light"
          },
          "output_type": "display_data"
        }
      ],
      "source": [
        "model_loss.plot()"
      ]
    },
    {
      "cell_type": "code",
      "execution_count": 41,
      "metadata": {
        "colab": {
          "base_uri": "https://localhost:8080/"
        },
        "id": "lh2CIUcJy9dt",
        "outputId": "fb6133e1-f752-4dfb-ddf7-53ca583ea236"
      },
      "outputs": [
        {
          "name": "stdout",
          "output_type": "stream",
          "text": [
            "191/191 [==============================] - 5s 16ms/step\n",
            "[[3361  112]\n",
            " [ 514 2103]]\n",
            "-------------------------------------------------------\n",
            "              precision    recall  f1-score   support\n",
            "\n",
            "           0       0.87      0.97      0.91      3473\n",
            "           1       0.95      0.80      0.87      2617\n",
            "\n",
            "    accuracy                           0.90      6090\n",
            "   macro avg       0.91      0.89      0.89      6090\n",
            "weighted avg       0.90      0.90      0.90      6090\n",
            "\n"
          ]
        }
      ],
      "source": [
        "from sklearn.metrics import confusion_matrix, classification_report, accuracy_score, f1_score, roc_auc_score\n",
        "\n",
        "\n",
        "y_train_pred = model.predict(X_train) >= 0.5\n",
        "\n",
        "print(confusion_matrix(y_train, y_train_pred))\n",
        "print(\"-------------------------------------------------------\")\n",
        "print(classification_report(y_train, y_train_pred))"
      ]
    },
    {
      "cell_type": "code",
      "execution_count": 42,
      "metadata": {
        "colab": {
          "base_uri": "https://localhost:8080/"
        },
        "id": "PfAxi22ry8t9",
        "outputId": "a54d2b40-d31a-4b88-a12e-0fe3935a0c6a"
      },
      "outputs": [
        {
          "name": "stdout",
          "output_type": "stream",
          "text": [
            "48/48 [==============================] - 1s 14ms/step\n",
            "[[785  84]\n",
            " [209 445]]\n",
            "-------------------------------------------------------\n",
            "              precision    recall  f1-score   support\n",
            "\n",
            "           0       0.79      0.90      0.84       869\n",
            "           1       0.84      0.68      0.75       654\n",
            "\n",
            "    accuracy                           0.81      1523\n",
            "   macro avg       0.82      0.79      0.80      1523\n",
            "weighted avg       0.81      0.81      0.80      1523\n",
            "\n"
          ]
        }
      ],
      "source": [
        "y_pred = model.predict(X_test) >= 0.5\n",
        "\n",
        "print(confusion_matrix(y_test, y_pred))\n",
        "print(\"-------------------------------------------------------\")\n",
        "print(classification_report(y_test, y_pred))"
      ]
    },
    {
      "cell_type": "code",
      "execution_count": 144,
      "metadata": {
        "colab": {
          "base_uri": "https://localhost:8080/",
          "height": 295
        },
        "id": "kF0ks_UphsVL",
        "outputId": "84a21218-29ba-4fde-f957-6022518bffd4"
      },
      "outputs": [
        {
          "name": "stdout",
          "output_type": "stream",
          "text": [
            "48/48 [==============================] - 1s 11ms/step\n"
          ]
        },
        {
          "data": {
            "image/png": "[encoded data removed]",
            "text/plain": [
              "<Figure size 432x288 with 1 Axes>"
            ]
          },
          "metadata": {
            "needs_background": "light"
          },
          "output_type": "display_data"
        }
      ],
      "source": [
        "from sklearn.metrics import precision_recall_curve, average_precision_score\n",
        "import matplotlib.pyplot as plt\n",
        "\n",
        "y_pred_proba = model.predict(X_test)\n",
        "precision, recall, thresholds = precision_recall_curve(y_test, y_pred_proba,)\n",
        "plt.plot([1,0],[0,1],'k--')\n",
        "plt.plot(recall, precision)\n",
        "plt.xlabel('recall')\n",
        "plt.ylabel('precision')\n",
        "plt.title('precision recall curve')\n",
        "plt.show()"
      ]
    },
    {
      "cell_type": "code",
      "execution_count": 145,
      "metadata": {
        "colab": {
          "base_uri": "https://localhost:8080/"
        },
        "id": "PngCc_Ofk3ek",
        "outputId": "4b6b4b22-1c56-4958-de79-4e6e4d27f4e0"
      },
      "outputs": [
        {
          "data": {
            "text/plain": [
              "0.853484338494844"
            ]
          },
          "execution_count": 145,
          "metadata": {},
          "output_type": "execute_result"
        }
      ],
      "source": [
        "average_precision_score(y_test, y_pred_proba)"
      ]
    },
    {
      "cell_type": "code",
      "execution_count": 43,
      "metadata": {
        "id": "6MUOHCCa62xP"
      },
      "outputs": [],
      "source": [
        "df_test = pd.read_pickle('clean_test.pkl')"
      ]
    },
    {
      "cell_type": "code",
      "execution_count": 44,
      "metadata": {},
      "outputs": [],
      "source": [
        "X_num_tokens_test = tokenizer.texts_to_sequences(df_test.cleaned_text)\n",
        "# Fixing token cpounts of all docuemnts(pad_seq)\n",
        "X_pad_test = pad_sequences(X_num_tokens_test, maxlen=25)"
      ]
    },
    {
      "cell_type": "code",
      "execution_count": 45,
      "metadata": {},
      "outputs": [
        {
          "name": "stdout",
          "output_type": "stream",
          "text": [
            "102/102 [==============================] - 1s 14ms/step\n"
          ]
        }
      ],
      "source": [
        "df_test['target'] = model.predict(X_pad_test)\n",
        "df_test['target'] = df_test.target.apply(lambda x : 1 if x > 0.5 else 0)\n",
        "df_test = df_test[['id','target']]"
      ]
    },
    {
      "cell_type": "code",
      "execution_count": 46,
      "metadata": {},
      "outputs": [],
      "source": [
        "df_test.to_csv('submission10.csv', index=False)"
      ]
    }
  ],
  "metadata": {
    "accelerator": "GPU",
    "colab": {
      "name": "NLP_4_(NLP_Application_with_DL) 14 Jul 2022.ipynb",
      "provenance": []
    },
    "gpuClass": "standard",
    "kernelspec": {
      "display_name": "Python 3.9.1 64-bit",
      "language": "python",
      "name": "python3"
    },
    "language_info": {
      "codemirror_mode": {
        "name": "ipython",
        "version": 3
      },
      "file_extension": ".py",
      "mimetype": "text/x-python",
      "name": "python",
      "nbconvert_exporter": "python",
      "pygments_lexer": "ipython3",
      "version": "3.9.1"
    },
    "vscode": {
      "interpreter": {
        "hash": "376b014e33adc11ea6a08e651f7f835750e4b57704f45419011e59609650410d"
      }
    }
  },
  "nbformat": 4,
  "nbformat_minor": 0
}
