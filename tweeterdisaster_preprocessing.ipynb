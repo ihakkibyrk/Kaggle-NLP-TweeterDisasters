{
 "cells": [
  {
   "cell_type": "markdown",
   "metadata": {},
   "source": [
    "## Imports and prerequisites"
   ]
  },
  {
   "cell_type": "code",
   "execution_count": 12,
   "metadata": {},
   "outputs": [],
   "source": [
    "# NLP functions\n",
    "from nlpfunctions import clean_text, spacy_lemmatizer, remove_nonenglish\n",
    "\n",
    "# Basic imports\n",
    "import re\n",
    "import string\n",
    "import pandas as pd\n",
    "import datetime as dt\n",
    "\n",
    "# NLP packages\n",
    "import spacy\n",
    "import nltk\n",
    "\n",
    "# Stopwords\n",
    "from sklearn.feature_extraction import _stop_words\n",
    "\n",
    "# Display\n",
    "from tqdm import tqdm\n",
    "pd.options.mode.chained_assignment = None\n",
    "pd.set_option('display.max_colwidth', None)\n",
    "\n",
    "# Set progress bar from tqdm\n",
    "tqdm.pandas(position=0, colour='green')"
   ]
  },
  {
   "cell_type": "code",
   "execution_count": 13,
   "metadata": {},
   "outputs": [],
   "source": [
    "# Load Spacy  model\n",
    "nlp = spacy.load('C:/Users/ihakk/AppData/Local/Packages/PythonSoftwareFoundation.Python.3.10_qbz5n2kfra8p0/\\\n",
    "LocalCache/local-packages/Python310/site-packages/en_core_web_lg/en_core_web_lg-3.4.0', disable=['parser', 'ner'])"
   ]
  },
  {
   "cell_type": "code",
   "execution_count": 14,
   "metadata": {},
   "outputs": [],
   "source": [
    "# Get stopwords list for sklearn\n",
    "stopwords = list(_stop_words.ENGLISH_STOP_WORDS)\n",
    "\n",
    "# Modify the stop word list\n",
    "remove_stop = ['not', 'without', 'would', 'never', 'neither', 'hasnt', 'couldnt', 'no', 'against']\n",
    "add_stop = []\n",
    "stopwords = [word for word in stopwords if word not in remove_stop]\n",
    "stopwords.extend(add_stop)\n",
    "\n",
    "# import the NLTK English corpus\n",
    "english_words = set(nltk.corpus.words.words())\n",
    "\n",
    "# Load the lexicon for lemmas\n",
    "lexicon = list(pd.read_csv('train.csv')['keyword'].unique())\n",
    "\n",
    "# Update the corpus with the Lexicon\n",
    "english_words.update(lexicon)"
   ]
  },
  {
   "cell_type": "markdown",
   "metadata": {},
   "source": [
    "## Importing the data"
   ]
  },
  {
   "cell_type": "code",
   "execution_count": 19,
   "metadata": {},
   "outputs": [],
   "source": [
    "# Loading the data\n",
    "df = pd.read_pickle('clean_data_1608221436.pkl')\n",
    "df_test = pd.read_pickle('clean_data_1608221848.pkl')"
   ]
  },
  {
   "cell_type": "code",
   "execution_count": 20,
   "metadata": {},
   "outputs": [
    {
     "name": "stdout",
     "output_type": "stream",
     "text": [
      "<class 'pandas.core.frame.DataFrame'>\n",
      "RangeIndex: 7613 entries, 0 to 7612\n",
      "Data columns (total 6 columns):\n",
      " #   Column        Non-Null Count  Dtype \n",
      "---  ------        --------------  ----- \n",
      " 0   id            7613 non-null   int64 \n",
      " 1   text          7613 non-null   object\n",
      " 2   target        7613 non-null   int64 \n",
      " 3   cleaned_text  7613 non-null   object\n",
      " 4   lemmas        7613 non-null   object\n",
      " 5   lemmas_small  7613 non-null   object\n",
      "dtypes: int64(2), object(4)\n",
      "memory usage: 357.0+ KB\n"
     ]
    }
   ],
   "source": [
    "df.info()"
   ]
  },
  {
   "cell_type": "markdown",
   "metadata": {},
   "source": [
    "## Pre-processing"
   ]
  },
  {
   "cell_type": "code",
   "execution_count": 49,
   "metadata": {},
   "outputs": [
    {
     "name": "stderr",
     "output_type": "stream",
     "text": [
      "100%|\u001b[32m██████████\u001b[0m| 7613/7613 [00:00<00:00, 8505.49it/s]\n",
      "100%|\u001b[32m██████████\u001b[0m| 7613/7613 [00:47<00:00, 161.79it/s]\n",
      "100%|\u001b[32m██████████\u001b[0m| 7613/7613 [00:00<00:00, 59310.73it/s]\n",
      "100%|\u001b[32m██████████\u001b[0m| 3263/3263 [00:00<00:00, 6672.64it/s]\n",
      "100%|\u001b[32m██████████\u001b[0m| 3263/3263 [00:18<00:00, 172.15it/s]\n",
      "100%|\u001b[32m██████████\u001b[0m| 3263/3263 [00:00<00:00, 192033.20it/s]\n"
     ]
    },
    {
     "name": "stdout",
     "output_type": "stream",
     "text": [
      "Data saved as :  clean_data_1808221051.pkl\n"
     ]
    }
   ],
   "source": [
    "df['cleaned_text'] = df['text'].progress_apply(clean)\n",
    "df['lemmas'] = df['cleaned_text'].progress_apply(spacy_lemmatizer, nlp=nlp, stopwords=stopwords)\n",
    "df['lemmas_small'] = df['lemmas'].progress_apply(remove_nonenglish, corpus=english_words)\n",
    "\n",
    "df_test['cleaned_text'] = df_test['text'].progress_apply(clean)\n",
    "df_test['lemmas'] = df_test['cleaned_text'].progress_apply(spacy_lemmatizer, nlp=nlp, stopwords=stopwords)\n",
    "df_test['lemmas_small'] = df_test['lemmas'].progress_apply(remove_nonenglish, corpus=english_words)\n",
    "\n",
    "# Create a file with currect date\n",
    "current_date = dt.date.today().strftime(format='%d%m%y')\n",
    "current_time = dt.datetime.now().strftime(format='%H%M')\n",
    "filename = f'clean_data_{current_date}{current_time}.pkl'\n",
    "\n",
    "# Saved the df to pickle\n",
    "df.to_pickle('clean_train.pkl')\n",
    "df_test.to_pickle('clean_test.pkl')\n",
    "print('Data saved as : ', filename)\n"
   ]
  },
  {
   "cell_type": "code",
   "execution_count": 50,
   "metadata": {},
   "outputs": [
    {
     "data": {
      "text/plain": [
       "'Aftershock: Protect Yourself and Profit in the Next Global Financial Meltdown by David Wiedemer http http://t.co/WZTz4hgMVq'"
      ]
     },
     "execution_count": 50,
     "metadata": {},
     "output_type": "execute_result"
    }
   ],
   "source": [
    "df.text.iloc[121]"
   ]
  },
  {
   "cell_type": "code",
   "execution_count": 51,
   "metadata": {},
   "outputs": [
    {
     "data": {
      "text/plain": [
       "'aftershock protect yourself and profit the next global financial meltdown david wiedemer'"
      ]
     },
     "execution_count": 51,
     "metadata": {},
     "output_type": "execute_result"
    }
   ],
   "source": [
    "df['cleaned_text'].iloc[121]"
   ]
  }
 ],
 "metadata": {
  "kernelspec": {
   "display_name": "Python 3.9.1 64-bit",
   "language": "python",
   "name": "python3"
  },
  "language_info": {
   "codemirror_mode": {
    "name": "ipython",
    "version": 3
   },
   "file_extension": ".py",
   "mimetype": "text/x-python",
   "name": "python",
   "nbconvert_exporter": "python",
   "pygments_lexer": "ipython3",
   "version": "3.9.1"
  },
  "orig_nbformat": 4,
  "vscode": {
   "interpreter": {
    "hash": "376b014e33adc11ea6a08e651f7f835750e4b57704f45419011e59609650410d"
   }
  }
 },
 "nbformat": 4,
 "nbformat_minor": 2
}
